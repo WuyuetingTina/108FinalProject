{
 "cells": [
  {
   "cell_type": "markdown",
   "metadata": {},
   "source": [
    "# COGS 108 Final Project Check-In"
   ]
  },
  {
   "cell_type": "markdown",
   "metadata": {},
   "source": [
    "# Names\n",
    "\n",
    "- Guanyi Su\n",
    "- Zhanchong Deng\n",
    "- Yueting Wu\n",
    "- Jiayun Wang\n",
    "- Yimei Zhao"
   ]
  },
  {
   "cell_type": "markdown",
   "metadata": {},
   "source": [
    "# Group Members IDs\n",
    "\n",
    "- A15538515\n",
    "- A15491777\n",
    "- A15534973\n",
    "- A15570215\n",
    "- A15603085"
   ]
  },
  {
   "cell_type": "markdown",
   "metadata": {},
   "source": [
    "# Accomplishments"
   ]
  },
  {
   "cell_type": "markdown",
   "metadata": {},
   "source": [
    "*We have found several datasets online that are very suitable for our final project. Now are able to not only analyze people's \"basic qualities\" such as gender and age but also their incomes and jobs. We have cleaned our datasets to remove all the rows that contains Nah. We have also drawn our first conclusion that there exists a relationship between people's age and their suiside rate.*"
   ]
  },
  {
   "cell_type": "markdown",
   "metadata": {},
   "source": [
    "# Going Well"
   ]
  },
  {
   "cell_type": "markdown",
   "metadata": {},
   "source": [
    "*Briefly explain what has gone well so far in completing your group project.*\n",
    "\n",
    "\n",
    "Our project is going well so far. Except the accomplishments that just mentioned above, all of the group members keep connecting with each other often. All of us will meet together once a week to discuss what is our next step. This sucessfully helps us to keep our project continuously making progress. Like one week is cleaning data, one week is making hypothesis, one week is actually exploring data. And all of these steps, we accomplish the goals in time. All of us make an equal contributions. All of our members tries their best to absorb the knowledge in class. Also all of us is willing to learn new stuffs. Always learning things will be helpful for our project as well."
   ]
  },
  {
   "cell_type": "markdown",
   "metadata": {},
   "source": [
    "# Struggles"
   ]
  },
  {
   "cell_type": "markdown",
   "metadata": {},
   "source": [
    "While our group made great progress, we still faced some issues. When dealing with colummns, we were not sure whether nan values should be removed or not. Nan values may not be occured completely at Random. Instead, it could be related to some other factors or other columns. Handling on this issue, our groupmembers held different opinions. Other issues we met are making conclusions between people's age and their suicide rate. We were not sure about how to do hypothesis test, so we searched on google. Overall, we solved many small issues we met and we are going well so far."
   ]
  },
  {
   "cell_type": "markdown",
   "metadata": {},
   "source": [
    "# Plan Forward"
   ]
  },
  {
   "cell_type": "markdown",
   "metadata": {},
   "source": [
    "*Explain what your plan is for successful completion of your COGS 108 project. If any issues have arisen, address your plan for addressing these issues throughout the rest of the quarter.*\n",
    "\n",
    "Our plan for successful completion of our COGS 108 project is to make contribution to our project every week and never delay our plan. And our next step is to do more data analysis. For example, we will make null hypothesis, and doing some test to test it. If we find the hypothesis is not doing well, we will first examine our thought to the data set. And if our thought is not working well, we will change our direction as soon as possible. And we are also reviewing content in the class. In this way, we can find some helpful method that will be beneficial to our project. What's more, except the content that we learned in class, we are also self-learning some method like ks-statistic, imputation, missingness that kind of things. Because some of the Nan value that we drop right now may cause our data be bias. So we are currently finding some better way to accomplish our project. We try to make our project have a relatively reliable result. And this is also the thing that we pursue."
   ]
  },
  {
   "cell_type": "code",
   "execution_count": null,
   "metadata": {},
   "outputs": [],
   "source": []
  }
 ],
 "metadata": {
  "kernelspec": {
   "display_name": "Python 3",
   "language": "python",
   "name": "python3"
  },
  "language_info": {
   "codemirror_mode": {
    "name": "ipython",
    "version": 3
   },
   "file_extension": ".py",
   "mimetype": "text/x-python",
   "name": "python",
   "nbconvert_exporter": "python",
   "pygments_lexer": "ipython3",
   "version": "3.7.3"
  }
 },
 "nbformat": 4,
 "nbformat_minor": 2
}
