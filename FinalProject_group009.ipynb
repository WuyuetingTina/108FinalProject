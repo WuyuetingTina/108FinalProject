{
 "cells": [
  {
   "cell_type": "markdown",
   "metadata": {},
   "source": [
    "# Arizona Restaurants Data Analysis"
   ]
  },
  {
   "cell_type": "markdown",
   "metadata": {},
   "source": [
    "### Overview\n",
    "In this project, we explore the relationship between resturants' ratings in Arizona and three factors, including the crime rate, customers' real comment, and attributes. We use several techniques in our project: sentiment analysis, data cleaning, data visualization, exploratory data analysis, SVM modeling, regression analysis, hypothesis testing to explore these factors in depth. We aim to investigate how these three major factors affect the ratings of resturants in Arizona and use that to predict the ratings of resturants in Arizona."
   ]
  },
  {
   "cell_type": "markdown",
   "metadata": {},
   "source": [
    "### TEAM NAME: AZ Restaurants Explorer\n",
    "TEAM MEMBERS: Guanyi Su, Zhanchong Deng, Yueting Wu, Jiayun Wang, Yimei Zhao\n",
    "\n",
    "TEAM MEMBER IDS: A15538515, A15491777, A15534973, A15570215, A15603085"
   ]
  },
  {
   "cell_type": "markdown",
   "metadata": {},
   "source": [
    "### Research Question\n",
    "Does the star level on Yelp really reflect people's feelings about the restaurants?\n",
    "\n",
    "Can we use the local crime rate and certain attributes of the restaurants to predict the ratings of resturants in Arizona?"
   ]
  },
  {
   "cell_type": "markdown",
   "metadata": {},
   "source": [
    "### Background\n",
    "People having being more cautious when choosing resturants and hanging out with friends. Yelp provided a platform for people to connect with great business. What are the factors affecting the ratings of resturants? Our group explore ratings of resturants in Arizona and try to find out the relationship between ratings and three factors: consumers' review texts, the crime rate, and attributes. The reason for using Arizona is that we notice that there is a large porportion in our restaurant dataset is from Arizona, and we believe that the correlation and prediction would be more acccurate with more information.\n",
    "\n",
    "\n",
    "To make sure our data are not biased, we only choose restaurants who have over 8 reviews so that those reviews/ratings are more trustworthy.\n",
    "\n",
    "\n",
    "We extract datasets from Yelp, Phonenix open data. And we get map information from OpenStreetMap.\n",
    "\n",
    "\n",
    "Our datasets from the Yelp contains main information we need, including starts, longitude, latitude, postal code, texts, etc. We have two datasets, business and reviews. For business, each entry contains information about one business in the US from Yelp. And for reviews, each entry contains information of one yelp review from one user. We combine these two datasets in our project to better develop our investigation between resturants' ratings and three factors. For the crime rate part, we look into Phenix Open Data which include information about each crime record. We combine two datasets in part two to for better map visualization, hypothesis tests and generating models. In part three, we choose the following attributes to further investigate: WiFi, Alcohol, OutdoorSeating, BusinessAcceptesCreditCards, RestaurantsPriceRange2, NoiseLevel. Overall, that's how datassets are used in our project."
   ]
  },
  {
   "cell_type": "markdown",
   "metadata": {},
   "source": [
    "### Prior Work\n",
    "Other research and visualizations have been done by looking at resturants' ratings of resuturants on Yelp and the crime rate in AZ. With further exploratation, we would like to establish a more integral relationship between different variables and ratings of resturants in Arizona.\n",
    "\n",
    "References:\n",
    "1. Data Exploration on Yelp Resturants: \n",
    "     https://public.tableau.com/views/Yelp_data_analysis/Yelpresturantanalysis?:embed=y&:showVizHome=no&:display_count=y&:display_static_image=y&:bootstrapWhenNotified=true\n",
    "    \n",
    "2. Data Exploration and map visualization on the crime rate in Arizona: \n",
    "\n",
    "    https://www.neighborhoodscout.com/az/crime\n",
    "    "
   ]
  },
  {
   "cell_type": "markdown",
   "metadata": {},
   "source": [
    "### Hypothesis"
   ]
  },
  {
   "cell_type": "markdown",
   "metadata": {},
   "source": [
    "We choose some factors to try to predict the rating of the restaurant. We make the hypothesis: the crime rate, review counts and level of noise will influence the rating of the restaurant in some degree. We predict that if the crime rate is lower, the review counts are more, and level of noise is lower, the rating of the restaurant will be higher. \n",
    "\n",
    "There are existed research said that the noise level will affect people’s mental feelings. For the restaurant ratings, it is also closely related to how people feels during eating. Thus, the level of noise that inside the attributes column might possibly be related to the ratings. What’s more, there are also existed research that claims crime rate will results the amount of restaurants nearby. And the amounts of restaurant will also possibly affect the ratings from the views. There are no direct support for how review counts will affect ratings of the restaurant. But when we look at yelp or other kind of customer based stuff like Amazon, most of us will take a look at review first. Both the review counts and the description in the review will be taken into consideration. Stuffs that have a high review counts will tend to be either super good and super bad, and this is based on our life experience. Thus, we want to know if there exists some kind of relationship between the rating of the restaurant in Arizona and the level of noises, crime rate and review counts."
   ]
  },
  {
   "cell_type": "markdown",
   "metadata": {},
   "source": [
    "### Data Set"
   ]
  },
  {
   "cell_type": "markdown",
   "metadata": {},
   "source": [
    "* Dataset Name: Yelp Dataset buisness\n",
    "\n",
    "Link to the dataset: https://www.yelp.com/dataset\n",
    "\n",
    "Number of observations: 1.2 million\n",
    "\n",
    "Description:\n",
    "Yelp business dataset contains a lot of information that about the restaurant in Yelp. It records all the restaurant related information like restaurant id, location (including state, zip code, longitude, latitude), rating, categories and so on. There are also some more sophisticated attributes that described in a dictionary that contained in the attribute part. And we basically uses the restaurant information in Arizona to see its rating value’s affecting factors. It takes us a lot of time to do the data exploratory since there are so many possible influential factors in the dataset. \n",
    "\n",
    "* Dataset Name: Yelp Dataset reviews\n",
    "\n",
    "Link to the dataset: https://www.yelp.com/dataset\n",
    "\n",
    "Number of observations: 150,000\n",
    "\n",
    "Description:\n",
    "Yelp review dataset is more narrowed to information that about reviews. It contains information like the restaurant id, date that reviews, ratings, text that for the reviews and so on. Since the reviews of the restaurant is a possible factor to influence the ratings, combining this dataset with the previous business one will be a great choice. Since both of them share business id, combing them by id and use rating and the text in review dataset will be used.\n",
    "\n",
    "* Dataset Name: Phenix Open Data\n",
    "\n",
    "Link to the dataset: https://www.phoenixopendata.com/dataset/crime-data\n",
    "\n",
    "Number of observations: 286,450\n",
    "\n",
    "Description:\n",
    "This dataset contains a lot of information about the crime’s happening in different places. It contains the information including the kind of crime(Uniform Crime Reporting), the place that the crime take place(zip code, and accurate street), time that crime happened, and so on. We want to combine it with the restaurant data set to see whether the crime rate will affect some information in the the restaurant dataset."
   ]
  },
  {
   "cell_type": "markdown",
   "metadata": {},
   "source": [
    "### Setup & import\n"
   ]
  },
  {
   "cell_type": "code",
   "execution_count": 2,
   "metadata": {
    "scrolled": true
   },
   "outputs": [],
   "source": [
    "#import libs\n",
    "\n",
    "import pandas as pd\n",
    "import numpy as np\n",
    "import matplotlib.pyplot as plt\n",
    "import seaborn as sns\n",
    "import scipy.stats as stats\n",
    "\n",
    "import collections\n",
    "\n",
    "import nltk\n",
    "from nltk.tokenize import word_tokenize\n",
    "from nltk.corpus import stopwords\n",
    "\n",
    "from sklearn.svm import SVC\n",
    "from sklearn.feature_extraction.text import CountVectorizer, TfidfVectorizer\n",
    "from sklearn.metrics import classification_report, precision_recall_fscore_support\n",
    "\n",
    "import patsy\n",
    "import statsmodels.api as sm"
   ]
  },
  {
   "cell_type": "markdown",
   "metadata": {},
   "source": [
    "Loading Datasets\n",
    "    - business: each entry contains information about one business in the US from Yelp.\n",
    "    - reviews: each entry contains information of one yelp review from one user.\n",
    "    - crime_df: each entry contains one crime record."
   ]
  },
  {
   "cell_type": "code",
   "execution_count": 4,
   "metadata": {},
   "outputs": [],
   "source": [
    "businesses = pd.read_json ('data/business.json', lines=True)\n",
    "reviews = pd.read_json('data/reviews.json', lines=True)\n",
    "crime_df = pd.read_csv('data/crime.csv', low_memory=False)"
   ]
  },
  {
   "cell_type": "code",
   "execution_count": 5,
   "metadata": {
    "scrolled": true
   },
   "outputs": [
    {
     "name": "stdout",
     "output_type": "stream",
     "text": [
      "businesses's column: ['address', 'attributes', 'business_id', 'categories', 'city', 'hours', 'is_open', 'latitude', 'longitude', 'name', 'postal_code', 'review_count', 'stars', 'state']\n",
      "\n",
      "review's column: ['business_id', 'cool', 'date', 'funny', 'review_id', 'stars', 'text', 'useful', 'user_id']\n",
      "\n",
      "crime_df's column: ['INC NUMBER', 'OCCURRED ON', 'OCCURRED TO', 'UCR CRIME CATEGORY', '100 BLOCK ADDR', 'ZIP', 'PREMISE TYPE']\n"
     ]
    }
   ],
   "source": [
    "print(\"businesses's column:\",businesses.columns.to_list())\n",
    "print()\n",
    "print(\"review's column:\",reviews.columns.to_list())\n",
    "print()\n",
    "print(\"crime_df's column:\",crime_df.columns.to_list())"
   ]
  },
  {
   "cell_type": "markdown",
   "metadata": {},
   "source": [
    "### Data Cleaning & Data Processing"
   ]
  },
  {
   "cell_type": "markdown",
   "metadata": {},
   "source": [
    "#### Original Data "
   ]
  },
  {
   "cell_type": "code",
   "execution_count": 6,
   "metadata": {},
   "outputs": [
    {
     "data": {
      "text/html": [
       "<div>\n",
       "<style scoped>\n",
       "    .dataframe tbody tr th:only-of-type {\n",
       "        vertical-align: middle;\n",
       "    }\n",
       "\n",
       "    .dataframe tbody tr th {\n",
       "        vertical-align: top;\n",
       "    }\n",
       "\n",
       "    .dataframe thead th {\n",
       "        text-align: right;\n",
       "    }\n",
       "</style>\n",
       "<table border=\"1\" class=\"dataframe\">\n",
       "  <thead>\n",
       "    <tr style=\"text-align: right;\">\n",
       "      <th></th>\n",
       "      <th>address</th>\n",
       "      <th>attributes</th>\n",
       "      <th>business_id</th>\n",
       "      <th>categories</th>\n",
       "      <th>city</th>\n",
       "      <th>hours</th>\n",
       "      <th>is_open</th>\n",
       "      <th>latitude</th>\n",
       "      <th>longitude</th>\n",
       "      <th>name</th>\n",
       "      <th>postal_code</th>\n",
       "      <th>review_count</th>\n",
       "      <th>stars</th>\n",
       "      <th>state</th>\n",
       "    </tr>\n",
       "  </thead>\n",
       "  <tbody>\n",
       "    <tr>\n",
       "      <th>0</th>\n",
       "      <td>2818 E Camino Acequia Drive</td>\n",
       "      <td>{'GoodForKids': 'False'}</td>\n",
       "      <td>1SWheh84yJXfytovILXOAQ</td>\n",
       "      <td>Golf, Active Life</td>\n",
       "      <td>Phoenix</td>\n",
       "      <td>None</td>\n",
       "      <td>0</td>\n",
       "      <td>33.522143</td>\n",
       "      <td>-112.018481</td>\n",
       "      <td>Arizona Biltmore Golf Club</td>\n",
       "      <td>85016</td>\n",
       "      <td>5</td>\n",
       "      <td>3.0</td>\n",
       "      <td>AZ</td>\n",
       "    </tr>\n",
       "    <tr>\n",
       "      <th>1</th>\n",
       "      <td>30 Eglinton Avenue W</td>\n",
       "      <td>{'RestaurantsReservations': 'True', 'GoodForMe...</td>\n",
       "      <td>QXAEGFB4oINsVuTFxEYKFQ</td>\n",
       "      <td>Specialty Food, Restaurants, Dim Sum, Imported...</td>\n",
       "      <td>Mississauga</td>\n",
       "      <td>{'Monday': '9:0-0:0', 'Tuesday': '9:0-0:0', 'W...</td>\n",
       "      <td>1</td>\n",
       "      <td>43.605499</td>\n",
       "      <td>-79.652289</td>\n",
       "      <td>Emerald Chinese Restaurant</td>\n",
       "      <td>L5R 3E7</td>\n",
       "      <td>128</td>\n",
       "      <td>2.5</td>\n",
       "      <td>ON</td>\n",
       "    </tr>\n",
       "    <tr>\n",
       "      <th>2</th>\n",
       "      <td>10110 Johnston Rd, Ste 15</td>\n",
       "      <td>{'GoodForKids': 'True', 'NoiseLevel': 'u'avera...</td>\n",
       "      <td>gnKjwL_1w79qoiV3IC_xQQ</td>\n",
       "      <td>Sushi Bars, Restaurants, Japanese</td>\n",
       "      <td>Charlotte</td>\n",
       "      <td>{'Monday': '17:30-21:30', 'Wednesday': '17:30-...</td>\n",
       "      <td>1</td>\n",
       "      <td>35.092564</td>\n",
       "      <td>-80.859132</td>\n",
       "      <td>Musashi Japanese Restaurant</td>\n",
       "      <td>28210</td>\n",
       "      <td>170</td>\n",
       "      <td>4.0</td>\n",
       "      <td>NC</td>\n",
       "    </tr>\n",
       "    <tr>\n",
       "      <th>3</th>\n",
       "      <td>15655 W Roosevelt St, Ste 237</td>\n",
       "      <td>None</td>\n",
       "      <td>xvX2CttrVhyG2z1dFg_0xw</td>\n",
       "      <td>Insurance, Financial Services</td>\n",
       "      <td>Goodyear</td>\n",
       "      <td>{'Monday': '8:0-17:0', 'Tuesday': '8:0-17:0', ...</td>\n",
       "      <td>1</td>\n",
       "      <td>33.455613</td>\n",
       "      <td>-112.395596</td>\n",
       "      <td>Farmers Insurance - Paul Lorenz</td>\n",
       "      <td>85338</td>\n",
       "      <td>3</td>\n",
       "      <td>5.0</td>\n",
       "      <td>AZ</td>\n",
       "    </tr>\n",
       "    <tr>\n",
       "      <th>4</th>\n",
       "      <td>4209 Stuart Andrew Blvd, Ste F</td>\n",
       "      <td>{'BusinessAcceptsBitcoin': 'False', 'ByAppoint...</td>\n",
       "      <td>HhyxOkGAM07SRYtlQ4wMFQ</td>\n",
       "      <td>Plumbing, Shopping, Local Services, Home Servi...</td>\n",
       "      <td>Charlotte</td>\n",
       "      <td>{'Monday': '7:0-23:0', 'Tuesday': '7:0-23:0', ...</td>\n",
       "      <td>1</td>\n",
       "      <td>35.190012</td>\n",
       "      <td>-80.887223</td>\n",
       "      <td>Queen City Plumbing</td>\n",
       "      <td>28217</td>\n",
       "      <td>4</td>\n",
       "      <td>4.0</td>\n",
       "      <td>NC</td>\n",
       "    </tr>\n",
       "  </tbody>\n",
       "</table>\n",
       "</div>"
      ],
      "text/plain": [
       "                          address  \\\n",
       "0     2818 E Camino Acequia Drive   \n",
       "1            30 Eglinton Avenue W   \n",
       "2       10110 Johnston Rd, Ste 15   \n",
       "3   15655 W Roosevelt St, Ste 237   \n",
       "4  4209 Stuart Andrew Blvd, Ste F   \n",
       "\n",
       "                                          attributes             business_id  \\\n",
       "0                           {'GoodForKids': 'False'}  1SWheh84yJXfytovILXOAQ   \n",
       "1  {'RestaurantsReservations': 'True', 'GoodForMe...  QXAEGFB4oINsVuTFxEYKFQ   \n",
       "2  {'GoodForKids': 'True', 'NoiseLevel': 'u'avera...  gnKjwL_1w79qoiV3IC_xQQ   \n",
       "3                                               None  xvX2CttrVhyG2z1dFg_0xw   \n",
       "4  {'BusinessAcceptsBitcoin': 'False', 'ByAppoint...  HhyxOkGAM07SRYtlQ4wMFQ   \n",
       "\n",
       "                                          categories         city  \\\n",
       "0                                  Golf, Active Life      Phoenix   \n",
       "1  Specialty Food, Restaurants, Dim Sum, Imported...  Mississauga   \n",
       "2                  Sushi Bars, Restaurants, Japanese    Charlotte   \n",
       "3                      Insurance, Financial Services     Goodyear   \n",
       "4  Plumbing, Shopping, Local Services, Home Servi...    Charlotte   \n",
       "\n",
       "                                               hours  is_open   latitude  \\\n",
       "0                                               None        0  33.522143   \n",
       "1  {'Monday': '9:0-0:0', 'Tuesday': '9:0-0:0', 'W...        1  43.605499   \n",
       "2  {'Monday': '17:30-21:30', 'Wednesday': '17:30-...        1  35.092564   \n",
       "3  {'Monday': '8:0-17:0', 'Tuesday': '8:0-17:0', ...        1  33.455613   \n",
       "4  {'Monday': '7:0-23:0', 'Tuesday': '7:0-23:0', ...        1  35.190012   \n",
       "\n",
       "    longitude                             name postal_code  review_count  \\\n",
       "0 -112.018481       Arizona Biltmore Golf Club       85016             5   \n",
       "1  -79.652289       Emerald Chinese Restaurant     L5R 3E7           128   \n",
       "2  -80.859132      Musashi Japanese Restaurant       28210           170   \n",
       "3 -112.395596  Farmers Insurance - Paul Lorenz       85338             3   \n",
       "4  -80.887223              Queen City Plumbing       28217             4   \n",
       "\n",
       "   stars state  \n",
       "0    3.0    AZ  \n",
       "1    2.5    ON  \n",
       "2    4.0    NC  \n",
       "3    5.0    AZ  \n",
       "4    4.0    NC  "
      ]
     },
     "execution_count": 6,
     "metadata": {},
     "output_type": "execute_result"
    }
   ],
   "source": [
    "businesses.head()"
   ]
  },
  {
   "cell_type": "markdown",
   "metadata": {},
   "source": [
    "### Drop the Null Values\n",
    "We choose to drop nan values in businesses dataframe."
   ]
  },
  {
   "cell_type": "code",
   "execution_count": 7,
   "metadata": {},
   "outputs": [],
   "source": [
    "businesses.dropna(inplace = True)"
   ]
  },
  {
   "cell_type": "markdown",
   "metadata": {},
   "source": [
    "We want to focus on only **restaurants in AZ** from the the massive business dataset of the U.S"
   ]
  },
  {
   "cell_type": "code",
   "execution_count": 8,
   "metadata": {
    "scrolled": false
   },
   "outputs": [],
   "source": [
    "AZ_businesses = businesses[businesses['state'] == 'AZ']\n",
    "AZ_restaurants_all = (AZ_businesses[AZ_businesses['categories'].str.contains('Restaurant')])"
   ]
  },
  {
   "cell_type": "markdown",
   "metadata": {},
   "source": [
    "As users, we often distrust restaurant ratings with **small numbers of reviews**, even if they have high ratings. Thus, we want to only work with restaurants who has over **8** reviews so that those reviews/ratings are more trustworthy. This number is selected to have enough sample to work with."
   ]
  },
  {
   "cell_type": "code",
   "execution_count": 9,
   "metadata": {
    "scrolled": true
   },
   "outputs": [
    {
     "data": {
      "text/html": [
       "<div>\n",
       "<style scoped>\n",
       "    .dataframe tbody tr th:only-of-type {\n",
       "        vertical-align: middle;\n",
       "    }\n",
       "\n",
       "    .dataframe tbody tr th {\n",
       "        vertical-align: top;\n",
       "    }\n",
       "\n",
       "    .dataframe thead th {\n",
       "        text-align: right;\n",
       "    }\n",
       "</style>\n",
       "<table border=\"1\" class=\"dataframe\">\n",
       "  <thead>\n",
       "    <tr style=\"text-align: right;\">\n",
       "      <th></th>\n",
       "      <th>index</th>\n",
       "      <th>address</th>\n",
       "      <th>attributes</th>\n",
       "      <th>business_id</th>\n",
       "      <th>categories</th>\n",
       "      <th>city</th>\n",
       "      <th>hours</th>\n",
       "      <th>is_open</th>\n",
       "      <th>latitude</th>\n",
       "      <th>longitude</th>\n",
       "      <th>name</th>\n",
       "      <th>postal_code</th>\n",
       "      <th>review_count</th>\n",
       "      <th>stars</th>\n",
       "      <th>state</th>\n",
       "    </tr>\n",
       "  </thead>\n",
       "  <tbody>\n",
       "    <tr>\n",
       "      <th>0</th>\n",
       "      <td>11</td>\n",
       "      <td>2450 E Indian School Rd</td>\n",
       "      <td>{'RestaurantsTakeOut': 'True', 'BusinessParkin...</td>\n",
       "      <td>1Dfx3zM-rW4n-31KeC8sJg</td>\n",
       "      <td>Restaurants, Breakfast &amp; Brunch, Mexican, Taco...</td>\n",
       "      <td>Phoenix</td>\n",
       "      <td>{'Monday': '7:0-0:0', 'Tuesday': '7:0-0:0', 'W...</td>\n",
       "      <td>1</td>\n",
       "      <td>33.495194</td>\n",
       "      <td>-112.028588</td>\n",
       "      <td>Taco Bell</td>\n",
       "      <td>85016</td>\n",
       "      <td>18</td>\n",
       "      <td>3.0</td>\n",
       "      <td>AZ</td>\n",
       "    </tr>\n",
       "    <tr>\n",
       "      <th>1</th>\n",
       "      <td>78</td>\n",
       "      <td>13843 N Tatum Blvd, Ste 15</td>\n",
       "      <td>{'Caters': 'True', 'GoodForKids': 'True', 'Noi...</td>\n",
       "      <td>44YFU284Z3KDEy25QyVoUw</td>\n",
       "      <td>Chinese, Restaurants</td>\n",
       "      <td>Phoenix</td>\n",
       "      <td>{'Monday': '11:0-21:0', 'Tuesday': '11:0-21:0'...</td>\n",
       "      <td>1</td>\n",
       "      <td>33.613020</td>\n",
       "      <td>-111.977036</td>\n",
       "      <td>Nee House Chinese Restaurant</td>\n",
       "      <td>85032</td>\n",
       "      <td>269</td>\n",
       "      <td>3.5</td>\n",
       "      <td>AZ</td>\n",
       "    </tr>\n",
       "  </tbody>\n",
       "</table>\n",
       "</div>"
      ],
      "text/plain": [
       "   index                     address  \\\n",
       "0     11     2450 E Indian School Rd   \n",
       "1     78  13843 N Tatum Blvd, Ste 15   \n",
       "\n",
       "                                          attributes             business_id  \\\n",
       "0  {'RestaurantsTakeOut': 'True', 'BusinessParkin...  1Dfx3zM-rW4n-31KeC8sJg   \n",
       "1  {'Caters': 'True', 'GoodForKids': 'True', 'Noi...  44YFU284Z3KDEy25QyVoUw   \n",
       "\n",
       "                                          categories     city  \\\n",
       "0  Restaurants, Breakfast & Brunch, Mexican, Taco...  Phoenix   \n",
       "1                               Chinese, Restaurants  Phoenix   \n",
       "\n",
       "                                               hours  is_open   latitude  \\\n",
       "0  {'Monday': '7:0-0:0', 'Tuesday': '7:0-0:0', 'W...        1  33.495194   \n",
       "1  {'Monday': '11:0-21:0', 'Tuesday': '11:0-21:0'...        1  33.613020   \n",
       "\n",
       "    longitude                          name postal_code  review_count  stars  \\\n",
       "0 -112.028588                     Taco Bell       85016            18    3.0   \n",
       "1 -111.977036  Nee House Chinese Restaurant       85032           269    3.5   \n",
       "\n",
       "  state  \n",
       "0    AZ  \n",
       "1    AZ  "
      ]
     },
     "execution_count": 9,
     "metadata": {},
     "output_type": "execute_result"
    }
   ],
   "source": [
    "AZ_restaurants_all = AZ_restaurants_all[AZ_restaurants_all['review_count'] > 8]\n",
    "AZ_restaurants_all.reset_index(inplace = True)\n",
    "AZ_restaurants_all.head(2)"
   ]
  },
  {
   "cell_type": "markdown",
   "metadata": {},
   "source": [
    "## Part 1: Sentiment Analysis on Restaurant Review Data"
   ]
  },
  {
   "cell_type": "markdown",
   "metadata": {},
   "source": [
    "The star level of a restuarant is the average value of all the star level given by consumers on Yelp. However, we cannot ensure that the star level is reliable. Some people may tend to give a higher rate than they really thought. Some restaurants staff may give consumers benefits for giving a high rate. \n",
    "\n",
    "Does the star rates of Arizonian restuarants truely reflect people's thoughts in the review texts?\n",
    "\n",
    "To answer this question, we choose to conduct a sentiment analysis on restaurant review data."
   ]
  },
  {
   "cell_type": "code",
   "execution_count": 10,
   "metadata": {},
   "outputs": [
    {
     "data": {
      "text/html": [
       "<div>\n",
       "<style scoped>\n",
       "    .dataframe tbody tr th:only-of-type {\n",
       "        vertical-align: middle;\n",
       "    }\n",
       "\n",
       "    .dataframe tbody tr th {\n",
       "        vertical-align: top;\n",
       "    }\n",
       "\n",
       "    .dataframe thead th {\n",
       "        text-align: right;\n",
       "    }\n",
       "</style>\n",
       "<table border=\"1\" class=\"dataframe\">\n",
       "  <thead>\n",
       "    <tr style=\"text-align: right;\">\n",
       "      <th></th>\n",
       "      <th>business_id</th>\n",
       "      <th>cool</th>\n",
       "      <th>date</th>\n",
       "      <th>funny</th>\n",
       "      <th>review_id</th>\n",
       "      <th>stars</th>\n",
       "      <th>text</th>\n",
       "      <th>useful</th>\n",
       "      <th>user_id</th>\n",
       "    </tr>\n",
       "  </thead>\n",
       "  <tbody>\n",
       "    <tr>\n",
       "      <th>0</th>\n",
       "      <td>ujmEBvifdJM6h6RLv4wQIg</td>\n",
       "      <td>0</td>\n",
       "      <td>2013-05-07 04:34:36</td>\n",
       "      <td>1</td>\n",
       "      <td>Q1sbwvVQXV2734tPgoKj4Q</td>\n",
       "      <td>1</td>\n",
       "      <td>Total bill for this horrible service? Over $8G...</td>\n",
       "      <td>6</td>\n",
       "      <td>hG7b0MtEbXx5QzbzE6C_VA</td>\n",
       "    </tr>\n",
       "    <tr>\n",
       "      <th>1</th>\n",
       "      <td>NZnhc2sEQy3RmzKTZnqtwQ</td>\n",
       "      <td>0</td>\n",
       "      <td>2017-01-14 21:30:33</td>\n",
       "      <td>0</td>\n",
       "      <td>GJXCdrto3ASJOqKeVWPi6Q</td>\n",
       "      <td>5</td>\n",
       "      <td>I *adore* Travis at the Hard Rock's new Kelly ...</td>\n",
       "      <td>0</td>\n",
       "      <td>yXQM5uF2jS6es16SJzNHfg</td>\n",
       "    </tr>\n",
       "    <tr>\n",
       "      <th>2</th>\n",
       "      <td>WTqjgwHlXbSFevF32_DJVw</td>\n",
       "      <td>0</td>\n",
       "      <td>2016-11-09 20:09:03</td>\n",
       "      <td>0</td>\n",
       "      <td>2TzJjDVDEuAW6MR5Vuc1ug</td>\n",
       "      <td>5</td>\n",
       "      <td>I have to say that this office really has it t...</td>\n",
       "      <td>3</td>\n",
       "      <td>n6-Gk65cPZL6Uz8qRm3NYw</td>\n",
       "    </tr>\n",
       "    <tr>\n",
       "      <th>3</th>\n",
       "      <td>ikCg8xy5JIg_NGPx-MSIDA</td>\n",
       "      <td>0</td>\n",
       "      <td>2018-01-09 20:56:38</td>\n",
       "      <td>0</td>\n",
       "      <td>yi0R0Ugj_xUx_Nek0-_Qig</td>\n",
       "      <td>5</td>\n",
       "      <td>Went in for a lunch. Steak sandwich was delici...</td>\n",
       "      <td>0</td>\n",
       "      <td>dacAIZ6fTM6mqwW5uxkskg</td>\n",
       "    </tr>\n",
       "    <tr>\n",
       "      <th>4</th>\n",
       "      <td>b1b1eb3uo-w561D0ZfCEiQ</td>\n",
       "      <td>0</td>\n",
       "      <td>2018-01-30 23:07:38</td>\n",
       "      <td>0</td>\n",
       "      <td>11a8sVPMUFtaC7_ABRkmtw</td>\n",
       "      <td>1</td>\n",
       "      <td>Today was my second out of three sessions I ha...</td>\n",
       "      <td>7</td>\n",
       "      <td>ssoyf2_x0EQMed6fgHeMyQ</td>\n",
       "    </tr>\n",
       "  </tbody>\n",
       "</table>\n",
       "</div>"
      ],
      "text/plain": [
       "              business_id  cool                date  funny  \\\n",
       "0  ujmEBvifdJM6h6RLv4wQIg     0 2013-05-07 04:34:36      1   \n",
       "1  NZnhc2sEQy3RmzKTZnqtwQ     0 2017-01-14 21:30:33      0   \n",
       "2  WTqjgwHlXbSFevF32_DJVw     0 2016-11-09 20:09:03      0   \n",
       "3  ikCg8xy5JIg_NGPx-MSIDA     0 2018-01-09 20:56:38      0   \n",
       "4  b1b1eb3uo-w561D0ZfCEiQ     0 2018-01-30 23:07:38      0   \n",
       "\n",
       "                review_id  stars  \\\n",
       "0  Q1sbwvVQXV2734tPgoKj4Q      1   \n",
       "1  GJXCdrto3ASJOqKeVWPi6Q      5   \n",
       "2  2TzJjDVDEuAW6MR5Vuc1ug      5   \n",
       "3  yi0R0Ugj_xUx_Nek0-_Qig      5   \n",
       "4  11a8sVPMUFtaC7_ABRkmtw      1   \n",
       "\n",
       "                                                text  useful  \\\n",
       "0  Total bill for this horrible service? Over $8G...       6   \n",
       "1  I *adore* Travis at the Hard Rock's new Kelly ...       0   \n",
       "2  I have to say that this office really has it t...       3   \n",
       "3  Went in for a lunch. Steak sandwich was delici...       0   \n",
       "4  Today was my second out of three sessions I ha...       7   \n",
       "\n",
       "                  user_id  \n",
       "0  hG7b0MtEbXx5QzbzE6C_VA  \n",
       "1  yXQM5uF2jS6es16SJzNHfg  \n",
       "2  n6-Gk65cPZL6Uz8qRm3NYw  \n",
       "3  dacAIZ6fTM6mqwW5uxkskg  \n",
       "4  ssoyf2_x0EQMed6fgHeMyQ  "
      ]
     },
     "execution_count": 10,
     "metadata": {},
     "output_type": "execute_result"
    }
   ],
   "source": [
    "reviews.head()"
   ]
  },
  {
   "cell_type": "markdown",
   "metadata": {},
   "source": [
    "### Data Cleaning"
   ]
  },
  {
   "cell_type": "markdown",
   "metadata": {},
   "source": [
    "We need to extract the reviews for the Arizona restuarants."
   ]
  },
  {
   "cell_type": "markdown",
   "metadata": {},
   "source": [
    "We select three major columns that might be useful, including 'business_id', 'stars', 'text'. And as what we did to businesses, we drop nan values. In order to let dataframe better serve our investigation, we merge two dataframes into one dataframe."
   ]
  },
  {
   "cell_type": "code",
   "execution_count": 11,
   "metadata": {},
   "outputs": [
    {
     "data": {
      "text/html": [
       "<div>\n",
       "<style scoped>\n",
       "    .dataframe tbody tr th:only-of-type {\n",
       "        vertical-align: middle;\n",
       "    }\n",
       "\n",
       "    .dataframe tbody tr th {\n",
       "        vertical-align: top;\n",
       "    }\n",
       "\n",
       "    .dataframe thead th {\n",
       "        text-align: right;\n",
       "    }\n",
       "</style>\n",
       "<table border=\"1\" class=\"dataframe\">\n",
       "  <thead>\n",
       "    <tr style=\"text-align: right;\">\n",
       "      <th></th>\n",
       "      <th>index</th>\n",
       "      <th>address</th>\n",
       "      <th>attributes</th>\n",
       "      <th>business_id</th>\n",
       "      <th>categories</th>\n",
       "      <th>city</th>\n",
       "      <th>hours</th>\n",
       "      <th>is_open</th>\n",
       "      <th>latitude</th>\n",
       "      <th>longitude</th>\n",
       "      <th>name</th>\n",
       "      <th>postal_code</th>\n",
       "      <th>review_count</th>\n",
       "      <th>stars_x</th>\n",
       "      <th>state</th>\n",
       "      <th>stars_y</th>\n",
       "      <th>text</th>\n",
       "    </tr>\n",
       "  </thead>\n",
       "  <tbody>\n",
       "    <tr>\n",
       "      <th>0</th>\n",
       "      <td>11</td>\n",
       "      <td>2450 E Indian School Rd</td>\n",
       "      <td>{'RestaurantsTakeOut': 'True', 'BusinessParkin...</td>\n",
       "      <td>1Dfx3zM-rW4n-31KeC8sJg</td>\n",
       "      <td>Restaurants, Breakfast &amp; Brunch, Mexican, Taco...</td>\n",
       "      <td>Phoenix</td>\n",
       "      <td>{'Monday': '7:0-0:0', 'Tuesday': '7:0-0:0', 'W...</td>\n",
       "      <td>1</td>\n",
       "      <td>33.495194</td>\n",
       "      <td>-112.028588</td>\n",
       "      <td>Taco Bell</td>\n",
       "      <td>85016</td>\n",
       "      <td>18</td>\n",
       "      <td>3.0</td>\n",
       "      <td>AZ</td>\n",
       "      <td>3</td>\n",
       "      <td>I mean it's Taco Bell, so it is what it is. Ho...</td>\n",
       "    </tr>\n",
       "    <tr>\n",
       "      <th>1</th>\n",
       "      <td>11</td>\n",
       "      <td>2450 E Indian School Rd</td>\n",
       "      <td>{'RestaurantsTakeOut': 'True', 'BusinessParkin...</td>\n",
       "      <td>1Dfx3zM-rW4n-31KeC8sJg</td>\n",
       "      <td>Restaurants, Breakfast &amp; Brunch, Mexican, Taco...</td>\n",
       "      <td>Phoenix</td>\n",
       "      <td>{'Monday': '7:0-0:0', 'Tuesday': '7:0-0:0', 'W...</td>\n",
       "      <td>1</td>\n",
       "      <td>33.495194</td>\n",
       "      <td>-112.028588</td>\n",
       "      <td>Taco Bell</td>\n",
       "      <td>85016</td>\n",
       "      <td>18</td>\n",
       "      <td>3.0</td>\n",
       "      <td>AZ</td>\n",
       "      <td>1</td>\n",
       "      <td>1 star for service, but the food is not ok :( ...</td>\n",
       "    </tr>\n",
       "    <tr>\n",
       "      <th>2</th>\n",
       "      <td>11</td>\n",
       "      <td>2450 E Indian School Rd</td>\n",
       "      <td>{'RestaurantsTakeOut': 'True', 'BusinessParkin...</td>\n",
       "      <td>1Dfx3zM-rW4n-31KeC8sJg</td>\n",
       "      <td>Restaurants, Breakfast &amp; Brunch, Mexican, Taco...</td>\n",
       "      <td>Phoenix</td>\n",
       "      <td>{'Monday': '7:0-0:0', 'Tuesday': '7:0-0:0', 'W...</td>\n",
       "      <td>1</td>\n",
       "      <td>33.495194</td>\n",
       "      <td>-112.028588</td>\n",
       "      <td>Taco Bell</td>\n",
       "      <td>85016</td>\n",
       "      <td>18</td>\n",
       "      <td>3.0</td>\n",
       "      <td>AZ</td>\n",
       "      <td>4</td>\n",
       "      <td>Taco Bell has really improved over the years a...</td>\n",
       "    </tr>\n",
       "    <tr>\n",
       "      <th>3</th>\n",
       "      <td>78</td>\n",
       "      <td>13843 N Tatum Blvd, Ste 15</td>\n",
       "      <td>{'Caters': 'True', 'GoodForKids': 'True', 'Noi...</td>\n",
       "      <td>44YFU284Z3KDEy25QyVoUw</td>\n",
       "      <td>Chinese, Restaurants</td>\n",
       "      <td>Phoenix</td>\n",
       "      <td>{'Monday': '11:0-21:0', 'Tuesday': '11:0-21:0'...</td>\n",
       "      <td>1</td>\n",
       "      <td>33.613020</td>\n",
       "      <td>-111.977036</td>\n",
       "      <td>Nee House Chinese Restaurant</td>\n",
       "      <td>85032</td>\n",
       "      <td>269</td>\n",
       "      <td>3.5</td>\n",
       "      <td>AZ</td>\n",
       "      <td>4</td>\n",
       "      <td>Enjoyed Nee House immensely. No service issues...</td>\n",
       "    </tr>\n",
       "    <tr>\n",
       "      <th>4</th>\n",
       "      <td>78</td>\n",
       "      <td>13843 N Tatum Blvd, Ste 15</td>\n",
       "      <td>{'Caters': 'True', 'GoodForKids': 'True', 'Noi...</td>\n",
       "      <td>44YFU284Z3KDEy25QyVoUw</td>\n",
       "      <td>Chinese, Restaurants</td>\n",
       "      <td>Phoenix</td>\n",
       "      <td>{'Monday': '11:0-21:0', 'Tuesday': '11:0-21:0'...</td>\n",
       "      <td>1</td>\n",
       "      <td>33.613020</td>\n",
       "      <td>-111.977036</td>\n",
       "      <td>Nee House Chinese Restaurant</td>\n",
       "      <td>85032</td>\n",
       "      <td>269</td>\n",
       "      <td>3.5</td>\n",
       "      <td>AZ</td>\n",
       "      <td>3</td>\n",
       "      <td>I'm not sure how I rate this restaurant becaus...</td>\n",
       "    </tr>\n",
       "  </tbody>\n",
       "</table>\n",
       "</div>"
      ],
      "text/plain": [
       "   index                     address  \\\n",
       "0     11     2450 E Indian School Rd   \n",
       "1     11     2450 E Indian School Rd   \n",
       "2     11     2450 E Indian School Rd   \n",
       "3     78  13843 N Tatum Blvd, Ste 15   \n",
       "4     78  13843 N Tatum Blvd, Ste 15   \n",
       "\n",
       "                                          attributes             business_id  \\\n",
       "0  {'RestaurantsTakeOut': 'True', 'BusinessParkin...  1Dfx3zM-rW4n-31KeC8sJg   \n",
       "1  {'RestaurantsTakeOut': 'True', 'BusinessParkin...  1Dfx3zM-rW4n-31KeC8sJg   \n",
       "2  {'RestaurantsTakeOut': 'True', 'BusinessParkin...  1Dfx3zM-rW4n-31KeC8sJg   \n",
       "3  {'Caters': 'True', 'GoodForKids': 'True', 'Noi...  44YFU284Z3KDEy25QyVoUw   \n",
       "4  {'Caters': 'True', 'GoodForKids': 'True', 'Noi...  44YFU284Z3KDEy25QyVoUw   \n",
       "\n",
       "                                          categories     city  \\\n",
       "0  Restaurants, Breakfast & Brunch, Mexican, Taco...  Phoenix   \n",
       "1  Restaurants, Breakfast & Brunch, Mexican, Taco...  Phoenix   \n",
       "2  Restaurants, Breakfast & Brunch, Mexican, Taco...  Phoenix   \n",
       "3                               Chinese, Restaurants  Phoenix   \n",
       "4                               Chinese, Restaurants  Phoenix   \n",
       "\n",
       "                                               hours  is_open   latitude  \\\n",
       "0  {'Monday': '7:0-0:0', 'Tuesday': '7:0-0:0', 'W...        1  33.495194   \n",
       "1  {'Monday': '7:0-0:0', 'Tuesday': '7:0-0:0', 'W...        1  33.495194   \n",
       "2  {'Monday': '7:0-0:0', 'Tuesday': '7:0-0:0', 'W...        1  33.495194   \n",
       "3  {'Monday': '11:0-21:0', 'Tuesday': '11:0-21:0'...        1  33.613020   \n",
       "4  {'Monday': '11:0-21:0', 'Tuesday': '11:0-21:0'...        1  33.613020   \n",
       "\n",
       "    longitude                          name postal_code  review_count  \\\n",
       "0 -112.028588                     Taco Bell       85016            18   \n",
       "1 -112.028588                     Taco Bell       85016            18   \n",
       "2 -112.028588                     Taco Bell       85016            18   \n",
       "3 -111.977036  Nee House Chinese Restaurant       85032           269   \n",
       "4 -111.977036  Nee House Chinese Restaurant       85032           269   \n",
       "\n",
       "   stars_x state  stars_y                                               text  \n",
       "0      3.0    AZ        3  I mean it's Taco Bell, so it is what it is. Ho...  \n",
       "1      3.0    AZ        1  1 star for service, but the food is not ok :( ...  \n",
       "2      3.0    AZ        4  Taco Bell has really improved over the years a...  \n",
       "3      3.5    AZ        4  Enjoyed Nee House immensely. No service issues...  \n",
       "4      3.5    AZ        3  I'm not sure how I rate this restaurant becaus...  "
      ]
     },
     "execution_count": 11,
     "metadata": {},
     "output_type": "execute_result"
    }
   ],
   "source": [
    "reviews = reviews[['business_id', 'stars', 'text']]\n",
    "reviews.dropna(inplace=True)\n",
    "Arizona_reviews = pd.merge(AZ_restaurants_all, reviews, on='business_id', how='inner')\n",
    "Arizona_reviews.head() "
   ]
  },
  {
   "cell_type": "markdown",
   "metadata": {},
   "source": [
    "Remove all the information we do not need."
   ]
  },
  {
   "cell_type": "code",
   "execution_count": 12,
   "metadata": {},
   "outputs": [
    {
     "data": {
      "text/html": [
       "<div>\n",
       "<style scoped>\n",
       "    .dataframe tbody tr th:only-of-type {\n",
       "        vertical-align: middle;\n",
       "    }\n",
       "\n",
       "    .dataframe tbody tr th {\n",
       "        vertical-align: top;\n",
       "    }\n",
       "\n",
       "    .dataframe thead th {\n",
       "        text-align: right;\n",
       "    }\n",
       "</style>\n",
       "<table border=\"1\" class=\"dataframe\">\n",
       "  <thead>\n",
       "    <tr style=\"text-align: right;\">\n",
       "      <th></th>\n",
       "      <th>name</th>\n",
       "      <th>star_rate</th>\n",
       "      <th>text</th>\n",
       "    </tr>\n",
       "  </thead>\n",
       "  <tbody>\n",
       "    <tr>\n",
       "      <th>0</th>\n",
       "      <td>Taco Bell</td>\n",
       "      <td>3</td>\n",
       "      <td>I mean it's Taco Bell, so it is what it is. Ho...</td>\n",
       "    </tr>\n",
       "    <tr>\n",
       "      <th>1</th>\n",
       "      <td>Taco Bell</td>\n",
       "      <td>1</td>\n",
       "      <td>1 star for service, but the food is not ok :( ...</td>\n",
       "    </tr>\n",
       "    <tr>\n",
       "      <th>2</th>\n",
       "      <td>Taco Bell</td>\n",
       "      <td>4</td>\n",
       "      <td>Taco Bell has really improved over the years a...</td>\n",
       "    </tr>\n",
       "    <tr>\n",
       "      <th>3</th>\n",
       "      <td>Nee House Chinese Restaurant</td>\n",
       "      <td>4</td>\n",
       "      <td>Enjoyed Nee House immensely. No service issues...</td>\n",
       "    </tr>\n",
       "    <tr>\n",
       "      <th>4</th>\n",
       "      <td>Nee House Chinese Restaurant</td>\n",
       "      <td>3</td>\n",
       "      <td>I'm not sure how I rate this restaurant becaus...</td>\n",
       "    </tr>\n",
       "  </tbody>\n",
       "</table>\n",
       "</div>"
      ],
      "text/plain": [
       "                           name  star_rate  \\\n",
       "0                     Taco Bell          3   \n",
       "1                     Taco Bell          1   \n",
       "2                     Taco Bell          4   \n",
       "3  Nee House Chinese Restaurant          4   \n",
       "4  Nee House Chinese Restaurant          3   \n",
       "\n",
       "                                                text  \n",
       "0  I mean it's Taco Bell, so it is what it is. Ho...  \n",
       "1  1 star for service, but the food is not ok :( ...  \n",
       "2  Taco Bell has really improved over the years a...  \n",
       "3  Enjoyed Nee House immensely. No service issues...  \n",
       "4  I'm not sure how I rate this restaurant becaus...  "
      ]
     },
     "execution_count": 12,
     "metadata": {},
     "output_type": "execute_result"
    }
   ],
   "source": [
    "AZ_reviews = Arizona_reviews[['name', 'stars_y', 'text']]\n",
    "AZ_reviews.columns = ['name', 'star_rate', 'text']\n",
    "AZ_reviews.head()"
   ]
  },
  {
   "cell_type": "markdown",
   "metadata": {},
   "source": [
    "We define a **\"good\"** rate to be the star_rate greater equal than 3 and a **\"bad\"** rate to be the star_rate smaller than 3. \n",
    "We add a new column called \"positive\". A '1' in this column means it is positive. A '0' in this column means it is not. We will train a SVM model to check if the star_rate given by the user really show their actual thoughts from review."
   ]
  },
  {
   "cell_type": "code",
   "execution_count": 13,
   "metadata": {},
   "outputs": [
    {
     "name": "stderr",
     "output_type": "stream",
     "text": [
      "[nltk_data] Downloading package punkt to /Users/suguanyi/nltk_data...\n",
      "[nltk_data]   Package punkt is already up-to-date!\n",
      "[nltk_data] Downloading package stopwords to\n",
      "[nltk_data]     /Users/suguanyi/nltk_data...\n",
      "[nltk_data]   Package stopwords is already up-to-date!\n"
     ]
    },
    {
     "data": {
      "text/plain": [
       "True"
      ]
     },
     "execution_count": 13,
     "metadata": {},
     "output_type": "execute_result"
    }
   ],
   "source": [
    "nltk.download('punkt')\n",
    "nltk.download('stopwords')"
   ]
  },
  {
   "cell_type": "markdown",
   "metadata": {},
   "source": [
    "For convenience, we convert the numerical star rate into the binary value of whether the review is positive."
   ]
  },
  {
   "cell_type": "code",
   "execution_count": 14,
   "metadata": {},
   "outputs": [],
   "source": [
    "#this function converts the numerical star rate into the binary value of whether the review positive\n",
    "def convert_star_rate(rate):\n",
    "    if(rate >= 3):\n",
    "        return 1\n",
    "    else:\n",
    "        return 0"
   ]
  },
  {
   "cell_type": "code",
   "execution_count": 59,
   "metadata": {},
   "outputs": [
    {
     "data": {
      "text/html": [
       "<div>\n",
       "<style scoped>\n",
       "    .dataframe tbody tr th:only-of-type {\n",
       "        vertical-align: middle;\n",
       "    }\n",
       "\n",
       "    .dataframe tbody tr th {\n",
       "        vertical-align: top;\n",
       "    }\n",
       "\n",
       "    .dataframe thead th {\n",
       "        text-align: right;\n",
       "    }\n",
       "</style>\n",
       "<table border=\"1\" class=\"dataframe\">\n",
       "  <thead>\n",
       "    <tr style=\"text-align: right;\">\n",
       "      <th></th>\n",
       "      <th>name</th>\n",
       "      <th>star_rate</th>\n",
       "      <th>text</th>\n",
       "      <th>positive</th>\n",
       "    </tr>\n",
       "  </thead>\n",
       "  <tbody>\n",
       "    <tr>\n",
       "      <th>0</th>\n",
       "      <td>Taco Bell</td>\n",
       "      <td>3</td>\n",
       "      <td>I mean it's Taco Bell, so it is what it is. Ho...</td>\n",
       "      <td>1</td>\n",
       "    </tr>\n",
       "    <tr>\n",
       "      <th>1</th>\n",
       "      <td>Taco Bell</td>\n",
       "      <td>1</td>\n",
       "      <td>1 star for service, but the food is not ok :( ...</td>\n",
       "      <td>0</td>\n",
       "    </tr>\n",
       "    <tr>\n",
       "      <th>2</th>\n",
       "      <td>Taco Bell</td>\n",
       "      <td>4</td>\n",
       "      <td>Taco Bell has really improved over the years a...</td>\n",
       "      <td>1</td>\n",
       "    </tr>\n",
       "    <tr>\n",
       "      <th>3</th>\n",
       "      <td>Nee House Chinese Restaurant</td>\n",
       "      <td>4</td>\n",
       "      <td>Enjoyed Nee House immensely. No service issues...</td>\n",
       "      <td>1</td>\n",
       "    </tr>\n",
       "    <tr>\n",
       "      <th>4</th>\n",
       "      <td>Nee House Chinese Restaurant</td>\n",
       "      <td>3</td>\n",
       "      <td>I'm not sure how I rate this restaurant becaus...</td>\n",
       "      <td>1</td>\n",
       "    </tr>\n",
       "  </tbody>\n",
       "</table>\n",
       "</div>"
      ],
      "text/plain": [
       "                           name  star_rate  \\\n",
       "0                     Taco Bell          3   \n",
       "1                     Taco Bell          1   \n",
       "2                     Taco Bell          4   \n",
       "3  Nee House Chinese Restaurant          4   \n",
       "4  Nee House Chinese Restaurant          3   \n",
       "\n",
       "                                                text  positive  \n",
       "0  I mean it's Taco Bell, so it is what it is. Ho...         1  \n",
       "1  1 star for service, but the food is not ok :( ...         0  \n",
       "2  Taco Bell has really improved over the years a...         1  \n",
       "3  Enjoyed Nee House immensely. No service issues...         1  \n",
       "4  I'm not sure how I rate this restaurant becaus...         1  "
      ]
     },
     "execution_count": 59,
     "metadata": {},
     "output_type": "execute_result"
    }
   ],
   "source": [
    "AZ_reviews['positive'] = AZ_reviews['star_rate']\n",
    "AZ_reviews['positive'] = AZ_reviews['positive'].apply(convert_star_rate)\n",
    "AZ_reviews.head()"
   ]
  },
  {
   "cell_type": "markdown",
   "metadata": {},
   "source": [
    "Since the dataset is too large here which would make the runtime very slow, we choose to \n",
    "analyze the first 5000 rows. We will use these data to train and test a SVM classifier"
   ]
  },
  {
   "cell_type": "code",
   "execution_count": 16,
   "metadata": {},
   "outputs": [],
   "source": [
    "AZ_reviews = AZ_reviews.head(5000)"
   ]
  },
  {
   "cell_type": "markdown",
   "metadata": {},
   "source": [
    "### Convert Text data into vector "
   ]
  },
  {
   "cell_type": "markdown",
   "metadata": {},
   "source": [
    "We use CountVectorizer as feature selection to convert a collection of text documents to a matrix of token counts."
   ]
  },
  {
   "cell_type": "code",
   "execution_count": 17,
   "metadata": {},
   "outputs": [],
   "source": [
    "vectorizer = CountVectorizer(analyzer = 'word', max_features = 2000, tokenizer = word_tokenize, \n",
    "                             stop_words = stopwords.words('english' ))"
   ]
  },
  {
   "cell_type": "code",
   "execution_count": 18,
   "metadata": {},
   "outputs": [
    {
     "name": "stderr",
     "output_type": "stream",
     "text": [
      "/anaconda3/lib/python3.7/site-packages/sklearn/feature_extraction/text.py:301: UserWarning: Your stop_words may be inconsistent with your preprocessing. Tokenizing the stop words generated tokens [\"'d\", \"'ll\", \"'re\", \"'s\", \"'ve\", 'could', 'might', 'must', \"n't\", 'need', 'sha', 'wo', 'would'] not in stop_words.\n",
      "  'stop_words.' % sorted(inconsistent))\n"
     ]
    }
   ],
   "source": [
    "review_X = vectorizer.fit_transform(AZ_reviews['text']).toarray()"
   ]
  },
  {
   "cell_type": "code",
   "execution_count": 19,
   "metadata": {},
   "outputs": [],
   "source": [
    "review_y = AZ_reviews['positive'].to_numpy()"
   ]
  },
  {
   "cell_type": "markdown",
   "metadata": {},
   "source": [
    "### Extracting train & test Data"
   ]
  },
  {
   "cell_type": "markdown",
   "metadata": {},
   "source": [
    "We split data into training data and testing data."
   ]
  },
  {
   "cell_type": "code",
   "execution_count": 20,
   "metadata": {},
   "outputs": [],
   "source": [
    "num_training = 3500"
   ]
  },
  {
   "cell_type": "code",
   "execution_count": 21,
   "metadata": {},
   "outputs": [],
   "source": [
    "review_train_X = review_X[0:num_training]\n",
    "review_train_y = review_y[0:num_training]\n",
    "review_test_X = review_X[num_training:]\n",
    "review_test_y = review_y[num_training:]"
   ]
  },
  {
   "cell_type": "markdown",
   "metadata": {},
   "source": [
    "### Train SVM"
   ]
  },
  {
   "cell_type": "markdown",
   "metadata": {},
   "source": [
    "We use SVM model and set the kernel as linear to train our review text from customers."
   ]
  },
  {
   "cell_type": "code",
   "execution_count": 22,
   "metadata": {},
   "outputs": [
    {
     "data": {
      "text/plain": [
       "SVC(C=1.0, cache_size=200, class_weight=None, coef0=0.0,\n",
       "  decision_function_shape='ovr', degree=3, gamma='auto_deprecated',\n",
       "  kernel='linear', max_iter=-1, probability=False, random_state=None,\n",
       "  shrinking=True, tol=0.001, verbose=False)"
      ]
     },
     "execution_count": 22,
     "metadata": {},
     "output_type": "execute_result"
    }
   ],
   "source": [
    "clf = SVC(kernel='linear')\n",
    "clf.fit(review_train_X,review_train_y)"
   ]
  },
  {
   "cell_type": "code",
   "execution_count": 23,
   "metadata": {},
   "outputs": [
    {
     "name": "stdout",
     "output_type": "stream",
     "text": [
      "[[1 0 0 ... 0 0 0]\n",
      " [2 0 0 ... 0 0 0]\n",
      " [4 0 0 ... 0 0 0]\n",
      " ...\n",
      " [2 0 0 ... 0 0 0]\n",
      " [1 0 0 ... 0 0 0]\n",
      " [1 0 0 ... 0 0 0]]\n"
     ]
    }
   ],
   "source": [
    "print(review_test_X)"
   ]
  },
  {
   "cell_type": "markdown",
   "metadata": {},
   "source": [
    "### Predict Outcome"
   ]
  },
  {
   "cell_type": "markdown",
   "metadata": {},
   "source": [
    "Here, we are trying to predict our test data."
   ]
  },
  {
   "cell_type": "code",
   "execution_count": 24,
   "metadata": {},
   "outputs": [],
   "source": [
    "review_predicted_train_y = clf.predict(review_train_X)\n",
    "review_predicted_test_y = clf.predict(review_test_X)"
   ]
  },
  {
   "cell_type": "markdown",
   "metadata": {},
   "source": [
    "From the below classification report, we can see that our model is accurate when predict training data which is used as training previously. Thus, we can see that our model works well for training data."
   ]
  },
  {
   "cell_type": "code",
   "execution_count": 25,
   "metadata": {},
   "outputs": [
    {
     "name": "stdout",
     "output_type": "stream",
     "text": [
      "              precision    recall  f1-score   support\n",
      "\n",
      "           0       1.00      1.00      1.00       641\n",
      "           1       1.00      1.00      1.00      2859\n",
      "\n",
      "   micro avg       1.00      1.00      1.00      3500\n",
      "   macro avg       1.00      1.00      1.00      3500\n",
      "weighted avg       1.00      1.00      1.00      3500\n",
      "\n"
     ]
    }
   ],
   "source": [
    "print(classification_report(review_train_y, review_predicted_train_y))"
   ]
  },
  {
   "cell_type": "markdown",
   "metadata": {},
   "source": [
    "As we pass testing data into our model, we can see that precisions decrease a bit. This report shows that our model can predict correctly for the most of the time. We can see that there's difference in precision of 0 and 1, so we conclude that our model can predict postive reviews correctly most of the time, but our model might not be as accurate as predicting positive when it predicts negative reviews. In the other words, our model might predict positive reviews as negative incorrectly."
   ]
  },
  {
   "cell_type": "code",
   "execution_count": 26,
   "metadata": {},
   "outputs": [
    {
     "name": "stdout",
     "output_type": "stream",
     "text": [
      "              precision    recall  f1-score   support\n",
      "\n",
      "           0       0.76      0.69      0.72       360\n",
      "           1       0.90      0.93      0.92      1140\n",
      "\n",
      "   micro avg       0.87      0.87      0.87      1500\n",
      "   macro avg       0.83      0.81      0.82      1500\n",
      "weighted avg       0.87      0.87      0.87      1500\n",
      "\n"
     ]
    }
   ],
   "source": [
    "print(classification_report(review_test_y, review_predicted_test_y))"
   ]
  },
  {
   "cell_type": "markdown",
   "metadata": {},
   "source": [
    "## Result interpretation"
   ]
  },
  {
   "cell_type": "markdown",
   "metadata": {},
   "source": [
    "The SVM perform very accurately when predicting the training data. We can see the accuracy for both 0 and 1 in training data prediction reaches 1.00, which means the model fits the training data very well.\n",
    "\n",
    "For test data, the prediction accuracy for 0 reaches 0.76 and the prediction accuracy for 1 reaches 0.90, which means\n",
    "the model can predict correctly for the most of the time. It is acceptable accuracy. \n",
    "\n",
    "Thus, we can conclude that star levels of the restaurants truely reflect costumers' feelings about the restaurants, and we can continue our following analysis based on star levels."
   ]
  },
  {
   "cell_type": "markdown",
   "metadata": {},
   "source": [
    "___"
   ]
  },
  {
   "cell_type": "markdown",
   "metadata": {},
   "source": [
    "## Part 2: Investigate Restaurant Ratings and Nearby Crime"
   ]
  },
  {
   "cell_type": "markdown",
   "metadata": {},
   "source": [
    "It is easy to assume safe neighborhood is a plus to a restaurant. **However, does that actually affect yelp ratings?** Keep in mind that crime happening in the area are not quite as visible as how the food looks as well as how clean the tables are, so it is questionable how crime rates would actually affect the ratings of a restaurnt in the area."
   ]
  },
  {
   "cell_type": "markdown",
   "metadata": {},
   "source": [
    "Additional Data Processing for this brach's purpose"
   ]
  },
  {
   "cell_type": "code",
   "execution_count": 27,
   "metadata": {},
   "outputs": [
    {
     "data": {
      "text/html": [
       "<div>\n",
       "<style scoped>\n",
       "    .dataframe tbody tr th:only-of-type {\n",
       "        vertical-align: middle;\n",
       "    }\n",
       "\n",
       "    .dataframe tbody tr th {\n",
       "        vertical-align: top;\n",
       "    }\n",
       "\n",
       "    .dataframe thead th {\n",
       "        text-align: right;\n",
       "    }\n",
       "</style>\n",
       "<table border=\"1\" class=\"dataframe\">\n",
       "  <thead>\n",
       "    <tr style=\"text-align: right;\">\n",
       "      <th></th>\n",
       "      <th>business_id</th>\n",
       "      <th>city</th>\n",
       "      <th>latitude</th>\n",
       "      <th>longitude</th>\n",
       "      <th>name</th>\n",
       "      <th>stars</th>\n",
       "      <th>postal_code</th>\n",
       "    </tr>\n",
       "  </thead>\n",
       "  <tbody>\n",
       "    <tr>\n",
       "      <th>0</th>\n",
       "      <td>1Dfx3zM-rW4n-31KeC8sJg</td>\n",
       "      <td>Phoenix</td>\n",
       "      <td>33.495194</td>\n",
       "      <td>-112.028588</td>\n",
       "      <td>Taco Bell</td>\n",
       "      <td>3.0</td>\n",
       "      <td>85016</td>\n",
       "    </tr>\n",
       "    <tr>\n",
       "      <th>1</th>\n",
       "      <td>44YFU284Z3KDEy25QyVoUw</td>\n",
       "      <td>Phoenix</td>\n",
       "      <td>33.613020</td>\n",
       "      <td>-111.977036</td>\n",
       "      <td>Nee House Chinese Restaurant</td>\n",
       "      <td>3.5</td>\n",
       "      <td>85032</td>\n",
       "    </tr>\n",
       "    <tr>\n",
       "      <th>2</th>\n",
       "      <td>r8764MtYyt8JhxMvrfM_xQ</td>\n",
       "      <td>Chandler</td>\n",
       "      <td>33.302093</td>\n",
       "      <td>-111.842613</td>\n",
       "      <td>Vintage 95</td>\n",
       "      <td>4.0</td>\n",
       "      <td>85225</td>\n",
       "    </tr>\n",
       "    <tr>\n",
       "      <th>3</th>\n",
       "      <td>nsNONDHbV7Vudqh21uicqw</td>\n",
       "      <td>Scottsdale</td>\n",
       "      <td>33.454286</td>\n",
       "      <td>-111.909405</td>\n",
       "      <td>Salt Cellar</td>\n",
       "      <td>3.5</td>\n",
       "      <td>85257</td>\n",
       "    </tr>\n",
       "    <tr>\n",
       "      <th>4</th>\n",
       "      <td>Rs8Wi4OEjeOX7LVlzsXDOA</td>\n",
       "      <td>Phoenix</td>\n",
       "      <td>33.537164</td>\n",
       "      <td>-112.132926</td>\n",
       "      <td>Sushi Mocorito</td>\n",
       "      <td>3.0</td>\n",
       "      <td>85051</td>\n",
       "    </tr>\n",
       "  </tbody>\n",
       "</table>\n",
       "</div>"
      ],
      "text/plain": [
       "              business_id        city   latitude   longitude  \\\n",
       "0  1Dfx3zM-rW4n-31KeC8sJg     Phoenix  33.495194 -112.028588   \n",
       "1  44YFU284Z3KDEy25QyVoUw     Phoenix  33.613020 -111.977036   \n",
       "2  r8764MtYyt8JhxMvrfM_xQ    Chandler  33.302093 -111.842613   \n",
       "3  nsNONDHbV7Vudqh21uicqw  Scottsdale  33.454286 -111.909405   \n",
       "4  Rs8Wi4OEjeOX7LVlzsXDOA     Phoenix  33.537164 -112.132926   \n",
       "\n",
       "                           name  stars postal_code  \n",
       "0                     Taco Bell    3.0       85016  \n",
       "1  Nee House Chinese Restaurant    3.5       85032  \n",
       "2                    Vintage 95    4.0       85225  \n",
       "3                   Salt Cellar    3.5       85257  \n",
       "4                Sushi Mocorito    3.0       85051  "
      ]
     },
     "execution_count": 27,
     "metadata": {},
     "output_type": "execute_result"
    }
   ],
   "source": [
    "reviews_related = ['business_id', 'city', 'latitude', 'longitude', 'name','stars', 'postal_code']\n",
    "AZ_restaurants = AZ_restaurants_all[reviews_related]\n",
    "AZ_restaurants.head()"
   ]
  },
  {
   "cell_type": "markdown",
   "metadata": {},
   "source": [
    "#### Data Visualization"
   ]
  },
  {
   "cell_type": "markdown",
   "metadata": {},
   "source": [
    "The star ratings on yelp is the best indicator of how **good** the restaurant is. A distribution on how the restaurant perform should help us see how the restaurants are doing in Arizona."
   ]
  },
  {
   "cell_type": "code",
   "execution_count": 60,
   "metadata": {
    "scrolled": false
   },
   "outputs": [
    {
     "data": {
      "text/plain": [
       "Text(0, 0.5, 'counts')"
      ]
     },
     "execution_count": 60,
     "metadata": {},
     "output_type": "execute_result"
    },
    {
     "data": {
      "image/png": "[encoded data removed]",
      "text/plain": [
       "<Figure size 720x576 with 1 Axes>"
      ]
     },
     "metadata": {
      "needs_background": "light"
     },
     "output_type": "display_data"
    }
   ],
   "source": [
    "x = AZ_restaurants['stars']\n",
    "plt.figure(figsize=(10, 8))\n",
    "plt.hist(x, bins = 25)\n",
    "plt.title(\"distribution of star levels\", fontsize=16)\n",
    "plt.xlabel('star level')\n",
    "plt.ylabel('counts')"
   ]
  },
  {
   "cell_type": "markdown",
   "metadata": {},
   "source": [
    "### Histogram analysis\n",
    "From the bar graph above we can see the stars level is approximately normally distribuited. The median is about **3.5**.\n",
    "- We would use the median to determine if the quality of the restaurant is above or below average, or to classify them as **good/room for improvements**."
   ]
  },
  {
   "cell_type": "markdown",
   "metadata": {},
   "source": [
    "To better understand our data, we visualize it with a scatter plot, where each dot represent a restaurant and the darker the dots are, the higher the ratings are for that restaurant."
   ]
  },
  {
   "cell_type": "code",
   "execution_count": 56,
   "metadata": {
    "scrolled": false
   },
   "outputs": [
    {
     "data": {
      "text/plain": [
       "<matplotlib.image.AxesImage at 0x1c306e57b8>"
      ]
     },
     "execution_count": 56,
     "metadata": {},
     "output_type": "execute_result"
    },
    {
     "data": {
      "image/png": "[encoded data removed]",
      "text/plain": [
       "<Figure size 720x720 with 2 Axes>"
      ]
     },
     "metadata": {
      "needs_background": "light"
     },
     "output_type": "display_data"
    }
   ],
   "source": [
    "long = AZ_restaurants['longitude']\n",
    "lat = AZ_restaurants['latitude']\n",
    "BBox = (long.min(), long.max(), lat.min(), lat.max())\n",
    "BGmap = plt.imread('data/AZ_map.png')\n",
    "\n",
    "ax = AZ_restaurants.plot(kind=\"scatter\", x=\"longitude\", y=\"latitude\", s=10, label=\"star\", c=\"stars\", \n",
    "                          colormap=\"Greens\", colorbar=True, alpha=0.2, figsize=(10,10))\n",
    "\n",
    "ax.set_title('Arizona restaurant star levels', fontsize = 16)\n",
    "ax.set_xlim(BBox[0],BBox[1])\n",
    "ax.set_ylim(BBox[2],BBox[3])\n",
    "\n",
    "\n",
    "ax.imshow(BGmap, zorder=0, extent = BBox, aspect= 'equal')"
   ]
  },
  {
   "cell_type": "markdown",
   "metadata": {},
   "source": [
    "Now, we also want to look at the criminal activity happening in the neighborhood."
   ]
  },
  {
   "cell_type": "code",
   "execution_count": 47,
   "metadata": {
    "scrolled": true
   },
   "outputs": [
    {
     "data": {
      "text/html": [
       "<div>\n",
       "<style scoped>\n",
       "    .dataframe tbody tr th:only-of-type {\n",
       "        vertical-align: middle;\n",
       "    }\n",
       "\n",
       "    .dataframe tbody tr th {\n",
       "        vertical-align: top;\n",
       "    }\n",
       "\n",
       "    .dataframe thead th {\n",
       "        text-align: right;\n",
       "    }\n",
       "</style>\n",
       "<table border=\"1\" class=\"dataframe\">\n",
       "  <thead>\n",
       "    <tr style=\"text-align: right;\">\n",
       "      <th></th>\n",
       "      <th>INC NUMBER</th>\n",
       "      <th>OCCURRED ON</th>\n",
       "      <th>OCCURRED TO</th>\n",
       "      <th>UCR CRIME CATEGORY</th>\n",
       "      <th>100 BLOCK ADDR</th>\n",
       "      <th>ZIP</th>\n",
       "      <th>PREMISE TYPE</th>\n",
       "    </tr>\n",
       "  </thead>\n",
       "  <tbody>\n",
       "    <tr>\n",
       "      <th>0</th>\n",
       "      <td>201600000594484</td>\n",
       "      <td>11/01/2015  00:00</td>\n",
       "      <td>NaN</td>\n",
       "      <td>RAPE</td>\n",
       "      <td>13XX E ALMERIA RD</td>\n",
       "      <td>85006.0</td>\n",
       "      <td>SINGLE FAMILY HOUSE</td>\n",
       "    </tr>\n",
       "    <tr>\n",
       "      <th>1</th>\n",
       "      <td>201600000052855</td>\n",
       "      <td>11/01/2015  00:00</td>\n",
       "      <td>01/09/2016  00:00</td>\n",
       "      <td>MOTOR VEHICLE THEFT</td>\n",
       "      <td>N 43RD AVE &amp; W CACTUS RD</td>\n",
       "      <td>85029.0</td>\n",
       "      <td>SINGLE FAMILY HOUSE</td>\n",
       "    </tr>\n",
       "    <tr>\n",
       "      <th>2</th>\n",
       "      <td>201500002101405</td>\n",
       "      <td>11/01/2015  00:00</td>\n",
       "      <td>11/01/2015  05:00</td>\n",
       "      <td>MOTOR VEHICLE THEFT</td>\n",
       "      <td>102XX W MEDLOCK AVE</td>\n",
       "      <td>85307.0</td>\n",
       "      <td>SINGLE FAMILY HOUSE</td>\n",
       "    </tr>\n",
       "    <tr>\n",
       "      <th>3</th>\n",
       "      <td>201500002168686</td>\n",
       "      <td>11/01/2015  00:00</td>\n",
       "      <td>11/11/2015  09:30</td>\n",
       "      <td>LARCENY-THEFT</td>\n",
       "      <td>14XX E HIGHLAND AVE</td>\n",
       "      <td>85014.0</td>\n",
       "      <td>PARKING LOT</td>\n",
       "    </tr>\n",
       "    <tr>\n",
       "      <th>4</th>\n",
       "      <td>201600000527709</td>\n",
       "      <td>11/01/2015  00:00</td>\n",
       "      <td>03/22/2016  00:36</td>\n",
       "      <td>LARCENY-THEFT</td>\n",
       "      <td>33XX W CAMELBACK RD</td>\n",
       "      <td>85017.0</td>\n",
       "      <td>PARKING LOT</td>\n",
       "    </tr>\n",
       "  </tbody>\n",
       "</table>\n",
       "</div>"
      ],
      "text/plain": [
       "        INC NUMBER        OCCURRED ON        OCCURRED TO   UCR CRIME CATEGORY  \\\n",
       "0  201600000594484  11/01/2015  00:00                NaN                 RAPE   \n",
       "1  201600000052855  11/01/2015  00:00  01/09/2016  00:00  MOTOR VEHICLE THEFT   \n",
       "2  201500002101405  11/01/2015  00:00  11/01/2015  05:00  MOTOR VEHICLE THEFT   \n",
       "3  201500002168686  11/01/2015  00:00  11/11/2015  09:30        LARCENY-THEFT   \n",
       "4  201600000527709  11/01/2015  00:00  03/22/2016  00:36        LARCENY-THEFT   \n",
       "\n",
       "             100 BLOCK ADDR      ZIP         PREMISE TYPE  \n",
       "0         13XX E ALMERIA RD  85006.0  SINGLE FAMILY HOUSE  \n",
       "1  N 43RD AVE & W CACTUS RD  85029.0  SINGLE FAMILY HOUSE  \n",
       "2       102XX W MEDLOCK AVE  85307.0  SINGLE FAMILY HOUSE  \n",
       "3       14XX E HIGHLAND AVE  85014.0          PARKING LOT  \n",
       "4       33XX W CAMELBACK RD  85017.0          PARKING LOT  "
      ]
     },
     "execution_count": 47,
     "metadata": {},
     "output_type": "execute_result"
    }
   ],
   "source": [
    "crime_df.head()"
   ]
  },
  {
   "cell_type": "code",
   "execution_count": 48,
   "metadata": {
    "scrolled": true
   },
   "outputs": [
    {
     "data": {
      "text/plain": [
       "99"
      ]
     },
     "execution_count": 48,
     "metadata": {},
     "output_type": "execute_result"
    }
   ],
   "source": [
    "len(crime_df['PREMISE TYPE'].unique())"
   ]
  },
  {
   "cell_type": "markdown",
   "metadata": {},
   "source": [
    "For our purpse, we only care about a crime's category and where it happened in general. PREMISE type is not included because it is quite hard to analyze it, as there are 99 undifferentiable type in the column."
   ]
  },
  {
   "cell_type": "code",
   "execution_count": 49,
   "metadata": {},
   "outputs": [
    {
     "name": "stderr",
     "output_type": "stream",
     "text": [
      "/anaconda3/lib/python3.7/site-packages/ipykernel_launcher.py:7: SettingWithCopyWarning: \n",
      "A value is trying to be set on a copy of a slice from a DataFrame.\n",
      "Try using .loc[row_indexer,col_indexer] = value instead\n",
      "\n",
      "See the caveats in the documentation: http://pandas.pydata.org/pandas-docs/stable/indexing.html#indexing-view-versus-copy\n",
      "  import sys\n"
     ]
    }
   ],
   "source": [
    "crime_df = crime_df[['UCR CRIME CATEGORY', 'ZIP']]\n",
    "crime_df = crime_df.dropna()\n",
    "crime_df = crime_df.reset_index()\n",
    "# Trim the .0 at the end\n",
    "crime_df['ZIP'] = crime_df.ZIP.astype(int)\n",
    "crime_df['ZIP'] = crime_df.ZIP.astype(str)\n",
    "AZ_restaurants['postal_code'] = AZ_restaurants.postal_code.astype(str)"
   ]
  },
  {
   "cell_type": "markdown",
   "metadata": {},
   "source": [
    "Now, each entry represents a crime happening in the correspound zipcode area."
   ]
  },
  {
   "cell_type": "code",
   "execution_count": 50,
   "metadata": {
    "scrolled": false
   },
   "outputs": [
    {
     "data": {
      "text/html": [
       "<div>\n",
       "<style scoped>\n",
       "    .dataframe tbody tr th:only-of-type {\n",
       "        vertical-align: middle;\n",
       "    }\n",
       "\n",
       "    .dataframe tbody tr th {\n",
       "        vertical-align: top;\n",
       "    }\n",
       "\n",
       "    .dataframe thead th {\n",
       "        text-align: right;\n",
       "    }\n",
       "</style>\n",
       "<table border=\"1\" class=\"dataframe\">\n",
       "  <thead>\n",
       "    <tr style=\"text-align: right;\">\n",
       "      <th></th>\n",
       "      <th>index</th>\n",
       "      <th>UCR CRIME CATEGORY</th>\n",
       "      <th>ZIP</th>\n",
       "    </tr>\n",
       "  </thead>\n",
       "  <tbody>\n",
       "    <tr>\n",
       "      <th>0</th>\n",
       "      <td>0</td>\n",
       "      <td>RAPE</td>\n",
       "      <td>85006</td>\n",
       "    </tr>\n",
       "    <tr>\n",
       "      <th>1</th>\n",
       "      <td>1</td>\n",
       "      <td>MOTOR VEHICLE THEFT</td>\n",
       "      <td>85029</td>\n",
       "    </tr>\n",
       "    <tr>\n",
       "      <th>2</th>\n",
       "      <td>2</td>\n",
       "      <td>MOTOR VEHICLE THEFT</td>\n",
       "      <td>85307</td>\n",
       "    </tr>\n",
       "    <tr>\n",
       "      <th>3</th>\n",
       "      <td>3</td>\n",
       "      <td>LARCENY-THEFT</td>\n",
       "      <td>85014</td>\n",
       "    </tr>\n",
       "    <tr>\n",
       "      <th>4</th>\n",
       "      <td>4</td>\n",
       "      <td>LARCENY-THEFT</td>\n",
       "      <td>85017</td>\n",
       "    </tr>\n",
       "  </tbody>\n",
       "</table>\n",
       "</div>"
      ],
      "text/plain": [
       "   index   UCR CRIME CATEGORY    ZIP\n",
       "0      0                 RAPE  85006\n",
       "1      1  MOTOR VEHICLE THEFT  85029\n",
       "2      2  MOTOR VEHICLE THEFT  85307\n",
       "3      3        LARCENY-THEFT  85014\n",
       "4      4        LARCENY-THEFT  85017"
      ]
     },
     "execution_count": 50,
     "metadata": {},
     "output_type": "execute_result"
    }
   ],
   "source": [
    "crime_df.head()"
   ]
  },
  {
   "cell_type": "markdown",
   "metadata": {},
   "source": [
    "Now, to see how criminal activities affect nearby restaurants, we must group these records by zip code and append them to back to the restaurant dataframe. In this way, we combine the two data frames of restaurants and crimes."
   ]
  },
  {
   "cell_type": "code",
   "execution_count": 51,
   "metadata": {},
   "outputs": [
    {
     "name": "stderr",
     "output_type": "stream",
     "text": [
      "/anaconda3/lib/python3.7/site-packages/ipykernel_launcher.py:3: SettingWithCopyWarning: \n",
      "A value is trying to be set on a copy of a slice from a DataFrame.\n",
      "Try using .loc[row_indexer,col_indexer] = value instead\n",
      "\n",
      "See the caveats in the documentation: http://pandas.pydata.org/pandas-docs/stable/indexing.html#indexing-view-versus-copy\n",
      "  This is separate from the ipykernel package so we can avoid doing imports until\n",
      "/anaconda3/lib/python3.7/site-packages/pandas/core/indexing.py:543: SettingWithCopyWarning: \n",
      "A value is trying to be set on a copy of a slice from a DataFrame.\n",
      "Try using .loc[row_indexer,col_indexer] = value instead\n",
      "\n",
      "See the caveats in the documentation: http://pandas.pydata.org/pandas-docs/stable/indexing.html#indexing-view-versus-copy\n",
      "  self.obj[item] = s\n"
     ]
    },
    {
     "data": {
      "text/html": [
       "<div>\n",
       "<style scoped>\n",
       "    .dataframe tbody tr th:only-of-type {\n",
       "        vertical-align: middle;\n",
       "    }\n",
       "\n",
       "    .dataframe tbody tr th {\n",
       "        vertical-align: top;\n",
       "    }\n",
       "\n",
       "    .dataframe thead th {\n",
       "        text-align: right;\n",
       "    }\n",
       "</style>\n",
       "<table border=\"1\" class=\"dataframe\">\n",
       "  <thead>\n",
       "    <tr style=\"text-align: right;\">\n",
       "      <th></th>\n",
       "      <th>business_id</th>\n",
       "      <th>city</th>\n",
       "      <th>latitude</th>\n",
       "      <th>longitude</th>\n",
       "      <th>name</th>\n",
       "      <th>stars</th>\n",
       "      <th>postal_code</th>\n",
       "      <th>crimes</th>\n",
       "    </tr>\n",
       "  </thead>\n",
       "  <tbody>\n",
       "    <tr>\n",
       "      <th>0</th>\n",
       "      <td>1Dfx3zM-rW4n-31KeC8sJg</td>\n",
       "      <td>Phoenix</td>\n",
       "      <td>33.495194</td>\n",
       "      <td>-112.028588</td>\n",
       "      <td>Taco Bell</td>\n",
       "      <td>3.0</td>\n",
       "      <td>85016</td>\n",
       "      <td>8020</td>\n",
       "    </tr>\n",
       "    <tr>\n",
       "      <th>1</th>\n",
       "      <td>44YFU284Z3KDEy25QyVoUw</td>\n",
       "      <td>Phoenix</td>\n",
       "      <td>33.613020</td>\n",
       "      <td>-111.977036</td>\n",
       "      <td>Nee House Chinese Restaurant</td>\n",
       "      <td>3.5</td>\n",
       "      <td>85032</td>\n",
       "      <td>8588</td>\n",
       "    </tr>\n",
       "    <tr>\n",
       "      <th>2</th>\n",
       "      <td>r8764MtYyt8JhxMvrfM_xQ</td>\n",
       "      <td>Chandler</td>\n",
       "      <td>33.302093</td>\n",
       "      <td>-111.842613</td>\n",
       "      <td>Vintage 95</td>\n",
       "      <td>4.0</td>\n",
       "      <td>85225</td>\n",
       "      <td>7</td>\n",
       "    </tr>\n",
       "    <tr>\n",
       "      <th>3</th>\n",
       "      <td>nsNONDHbV7Vudqh21uicqw</td>\n",
       "      <td>Scottsdale</td>\n",
       "      <td>33.454286</td>\n",
       "      <td>-111.909405</td>\n",
       "      <td>Salt Cellar</td>\n",
       "      <td>3.5</td>\n",
       "      <td>85257</td>\n",
       "      <td>9</td>\n",
       "    </tr>\n",
       "    <tr>\n",
       "      <th>4</th>\n",
       "      <td>Rs8Wi4OEjeOX7LVlzsXDOA</td>\n",
       "      <td>Phoenix</td>\n",
       "      <td>33.537164</td>\n",
       "      <td>-112.132926</td>\n",
       "      <td>Sushi Mocorito</td>\n",
       "      <td>3.0</td>\n",
       "      <td>85051</td>\n",
       "      <td>12339</td>\n",
       "    </tr>\n",
       "  </tbody>\n",
       "</table>\n",
       "</div>"
      ],
      "text/plain": [
       "              business_id        city   latitude   longitude  \\\n",
       "0  1Dfx3zM-rW4n-31KeC8sJg     Phoenix  33.495194 -112.028588   \n",
       "1  44YFU284Z3KDEy25QyVoUw     Phoenix  33.613020 -111.977036   \n",
       "2  r8764MtYyt8JhxMvrfM_xQ    Chandler  33.302093 -111.842613   \n",
       "3  nsNONDHbV7Vudqh21uicqw  Scottsdale  33.454286 -111.909405   \n",
       "4  Rs8Wi4OEjeOX7LVlzsXDOA     Phoenix  33.537164 -112.132926   \n",
       "\n",
       "                           name  stars postal_code  crimes  \n",
       "0                     Taco Bell    3.0       85016    8020  \n",
       "1  Nee House Chinese Restaurant    3.5       85032    8588  \n",
       "2                    Vintage 95    4.0       85225       7  \n",
       "3                   Salt Cellar    3.5       85257       9  \n",
       "4                Sushi Mocorito    3.0       85051   12339  "
      ]
     },
     "execution_count": 51,
     "metadata": {},
     "output_type": "execute_result"
    }
   ],
   "source": [
    "crime = list(crime_df['ZIP'])\n",
    "ctr = collections.Counter(crime)\n",
    "AZ_restaurants['crimes'] = AZ_restaurants['postal_code']\n",
    "for i in range(len(AZ_restaurants)):\n",
    "    AZ_restaurants.loc[i, \"crimes\"] = ctr[ AZ_restaurants.loc[i, \"crimes\"]]\n",
    "AZ_restaurants.head()"
   ]
  },
  {
   "cell_type": "markdown",
   "metadata": {},
   "source": [
    "Now we can visualize the restaurants again, but with how many crimes happened around that area as how deep each dot is."
   ]
  },
  {
   "cell_type": "code",
   "execution_count": 55,
   "metadata": {
    "scrolled": false
   },
   "outputs": [
    {
     "data": {
      "text/plain": [
       "<matplotlib.image.AxesImage at 0x1c30636ac8>"
      ]
     },
     "execution_count": 55,
     "metadata": {},
     "output_type": "execute_result"
    },
    {
     "data": {
      "image/png": "[encoded data removed]",
      "text/plain": [
       "<Figure size 720x720 with 2 Axes>"
      ]
     },
     "metadata": {
      "needs_background": "light"
     },
     "output_type": "display_data"
    }
   ],
   "source": [
    "BGmap = plt.imread('data/AZ_map.png')\n",
    "\n",
    "ax = AZ_restaurants.plot(kind=\"scatter\", x=\"longitude\", y=\"latitude\", s=10, label=\"crimes\", c=\"crimes\", \n",
    "                          colormap=\"Reds\", colorbar=True, alpha=0.2, figsize=(10,10))\n",
    "\n",
    "ax.set_title('Arizona crimes', fontsize = 16)\n",
    "ax.set_xlim(BBox[0],BBox[1])\n",
    "ax.set_ylim(BBox[2],BBox[3])\n",
    "\n",
    "ax.imshow(BGmap, zorder=0, extent = BBox, aspect= 'equal')"
   ]
  },
  {
   "cell_type": "markdown",
   "metadata": {},
   "source": [
    "### Scatterplot w/ stars/crimes Analysis\n",
    "\n",
    "With these two scatterplot, we can see some pattern by just comparing them. Areas like Apache Junction(around the word apache) is heavily dotted with dark green(indicating numerous criminal activities over time) is also dotted with light red(indicating below average restaurant ratings). On the other hand, a little bit to the right of apache junction(where the junction is on the map) is more heavily dotted with light green(indicating little criminal activities over time) is also dotted with dark red(indicating above average restaurant ratings). **It looks like criminal activities is correlated with restaurant's ratings**. But to be professional, we must take it to the next step --> **linear regression**. "
   ]
  },
  {
   "cell_type": "markdown",
   "metadata": {},
   "source": [
    "**Null Hypothesis:**  \n",
    "Any difference between the distribution of stars in AZ restaurants and the distribution of criminal activities around the Area are simply by chance."
   ]
  },
  {
   "cell_type": "markdown",
   "metadata": {},
   "source": [
    "**Alternative Hypothesis:**  \n",
    "Nope, they definitely have a correlation."
   ]
  },
  {
   "cell_type": "code",
   "execution_count": 57,
   "metadata": {},
   "outputs": [],
   "source": [
    "stars_n_crimes = AZ_restaurants[['crimes','stars']]"
   ]
  },
  {
   "cell_type": "markdown",
   "metadata": {},
   "source": [
    "Train/Test split"
   ]
  },
  {
   "cell_type": "code",
   "execution_count": 35,
   "metadata": {},
   "outputs": [],
   "source": [
    "train_size = int(len(stars_n_crimes) * 0.9)\n",
    "X_train = np.array(stars_n_crimes['crimes'][:train_size]).reshape(-1,1)\n",
    "Y_train = np.array(stars_n_crimes['stars'][:train_size]).reshape(-1,1)\n",
    "X_test = np.array(stars_n_crimes['crimes'][train_size:]).reshape(-1,1)\n",
    "Y_test = np.array(stars_n_crimes['stars'][train_size:]).reshape(-1,1)"
   ]
  },
  {
   "cell_type": "markdown",
   "metadata": {},
   "source": [
    "Training model"
   ]
  },
  {
   "cell_type": "code",
   "execution_count": 36,
   "metadata": {},
   "outputs": [],
   "source": [
    "from sklearn.linear_model import LinearRegression\n",
    "lr = LinearRegression().fit(X_train, Y_train)\n",
    "Y_pred = lr.predict(X_test)"
   ]
  },
  {
   "cell_type": "markdown",
   "metadata": {},
   "source": [
    "Uses both r2_score and mean squared error to determine how related the distributions are."
   ]
  },
  {
   "cell_type": "code",
   "execution_count": 37,
   "metadata": {},
   "outputs": [
    {
     "name": "stdout",
     "output_type": "stream",
     "text": [
      "Coefficient: [[4.22993362e-06]]\n",
      "MSE between our model's prediction and actual: 0.5831471588741112\n",
      "Coefficient of determination is: -0.0005905719272361054\n"
     ]
    },
    {
     "data": {
      "text/plain": [
       "[<matplotlib.lines.Line2D at 0x7f06c036cbe0>]"
      ]
     },
     "execution_count": 37,
     "metadata": {},
     "output_type": "execute_result"
    },
    {
     "data": {
      "image/png": "[encoded data removed]",
      "text/plain": [
       "<Figure size 432x288 with 1 Axes>"
      ]
     },
     "metadata": {
      "needs_background": "light"
     },
     "output_type": "display_data"
    }
   ],
   "source": [
    "from sklearn.metrics import r2_score, mean_squared_error\n",
    "print(\"Coefficient:\", lr.coef_)\n",
    "print(\"MSE between our model's prediction and actual:\", mean_squared_error(Y_test, Y_pred))\n",
    "print(\"Coefficient of determination is:\", r2_score(Y_test, Y_pred))\n",
    "\n",
    "plt.scatter(stars_n_crimes['crimes'][train_size:], \n",
    "            stars_n_crimes['stars'][train_size:], \n",
    "            color = 'black', \n",
    "            s=5)\n",
    "plt.xlabel(\"# of crimes\", fontsize = 12)\n",
    "plt.ylabel(\"# of stars\", fontsize = 12)\n",
    "plt.title(\"Scatterplot of stars/crimes w/ regression line\", fontsize = 16)\n",
    "plt.plot(stars_n_crimes['crimes'][train_size:], Y_pred, color='red', linewidth = 2)"
   ]
  },
  {
   "cell_type": "markdown",
   "metadata": {},
   "source": [
    "### What can we conclude from theses result?\n",
    "\n",
    "1. **Coefficient of determination**: coefficient of determination gives us insight into how well the regression line captures the population. Low value of R2 indicates that the model fails to predict most of the testing population, which indicates that there seem not to be much relationship between crimes and the ratings of nearby restaurants.\n",
    "2. **Mean Squared Error**: the mean square error calculates how far apart the predicted distribution of stars based on the regression line and the actual distribution of stars based on the same set of crimes distribution. Since we get such a huge number, it is clear that our predictions are pretty bad. It is quite likely that these two distribution doesn't share much relationship for our model to predict with, thus another evidence that crimes are not related to restaurant ratings.\n",
    "3. **Graph and Linear Regression Line**: To further consolidate our theory, we graphed out the distribution of our testing data and the linear regression line generated by our model. It appaers our data is quite distributed, thus our regression line doesn't quite covers the data in any way."
   ]
  },
  {
   "cell_type": "markdown",
   "metadata": {},
   "source": [
    "### Conclusion: Although it looks like they some correlation, a restaurant's rating is not really related to the criminal activities around the area."
   ]
  },
  {
   "cell_type": "markdown",
   "metadata": {},
   "source": [
    "___"
   ]
  },
  {
   "cell_type": "markdown",
   "metadata": {},
   "source": [
    "## Part 3: Relationship between attributes and the restaurants's ratings."
   ]
  },
  {
   "cell_type": "markdown",
   "metadata": {},
   "source": [
    "Could restaurant's ratings be related to other things as well? After a closer look at the data, we decide to investigate further into the **attributes** column, which contains rich informations about what the restaurants has to offer."
   ]
  },
  {
   "cell_type": "code",
   "execution_count": 38,
   "metadata": {},
   "outputs": [
    {
     "data": {
      "text/plain": [
       "dict_keys(['RestaurantsPriceRange2', 'BusinessAcceptsCreditCards', 'RestaurantsGoodForGroups', 'WheelchairAccessible', 'NoiseLevel', 'Alcohol', 'OutdoorSeating', 'RestaurantsAttire', 'CoatCheck', 'Smoking', 'WiFi', 'RestaurantsDelivery', 'Music', 'Caters', 'DogsAllowed', 'RestaurantsTakeOut', 'RestaurantsReservations', 'GoodForMeal', 'GoodForDancing', 'HasTV', 'Ambience', 'GoodForKids', 'BusinessAcceptsBitcoin', 'BikeParking', 'BusinessParking', 'BestNights'])"
      ]
     },
     "execution_count": 38,
     "metadata": {},
     "output_type": "execute_result"
    }
   ],
   "source": [
    "AZ_restaurnts_attr = AZ_restaurants_all[['stars','attributes','review_count']]\n",
    "AZ_restaurnts_attr['attributes'][110].keys()"
   ]
  },
  {
   "cell_type": "markdown",
   "metadata": {},
   "source": [
    "After looking over a few attributes, we determined a few attributes we wish to investigate:"
   ]
  },
  {
   "cell_type": "code",
   "execution_count": 39,
   "metadata": {},
   "outputs": [],
   "source": [
    "attribute_list = ['WiFi', \n",
    "                  'Alcohol',\n",
    "                  'OutdoorSeating',\n",
    "                  'BusinessAcceptsCreditCards',\n",
    "                  'RestaurantsPriceRange2', \n",
    "                  'NoiseLevel']"
   ]
  },
  {
   "cell_type": "markdown",
   "metadata": {},
   "source": [
    "Select only the restaurants with these attributes"
   ]
  },
  {
   "cell_type": "code",
   "execution_count": 40,
   "metadata": {},
   "outputs": [
    {
     "name": "stdout",
     "output_type": "stream",
     "text": [
      "6378\n"
     ]
    },
    {
     "data": {
      "text/html": [
       "<div>\n",
       "<style scoped>\n",
       "    .dataframe tbody tr th:only-of-type {\n",
       "        vertical-align: middle;\n",
       "    }\n",
       "\n",
       "    .dataframe tbody tr th {\n",
       "        vertical-align: top;\n",
       "    }\n",
       "\n",
       "    .dataframe thead th {\n",
       "        text-align: right;\n",
       "    }\n",
       "</style>\n",
       "<table border=\"1\" class=\"dataframe\">\n",
       "  <thead>\n",
       "    <tr style=\"text-align: right;\">\n",
       "      <th></th>\n",
       "      <th>stars</th>\n",
       "      <th>attributes</th>\n",
       "      <th>review_count</th>\n",
       "    </tr>\n",
       "  </thead>\n",
       "  <tbody>\n",
       "    <tr>\n",
       "      <th>0</th>\n",
       "      <td>3.5</td>\n",
       "      <td>{'Caters': 'True', 'GoodForKids': 'True', 'Noi...</td>\n",
       "      <td>269</td>\n",
       "    </tr>\n",
       "    <tr>\n",
       "      <th>1</th>\n",
       "      <td>4.0</td>\n",
       "      <td>{'OutdoorSeating': 'True', 'HasTV': 'True', 'N...</td>\n",
       "      <td>320</td>\n",
       "    </tr>\n",
       "  </tbody>\n",
       "</table>\n",
       "</div>"
      ],
      "text/plain": [
       "   stars                                         attributes  review_count\n",
       "0    3.5  {'Caters': 'True', 'GoodForKids': 'True', 'Noi...           269\n",
       "1    4.0  {'OutdoorSeating': 'True', 'HasTV': 'True', 'N...           320"
      ]
     },
     "execution_count": 40,
     "metadata": {},
     "output_type": "execute_result"
    }
   ],
   "source": [
    "def has_attributes(attribute_map):\n",
    "    for must_have in attribute_list:\n",
    "        if must_have not in attribute_map.keys():\n",
    "            return False\n",
    "    return True\n",
    "\n",
    "attribute_table = AZ_restaurnts_attr[AZ_restaurnts_attr['attributes'].apply(has_attributes)]\n",
    "attribute_table.reset_index(inplace = True,drop = True)\n",
    "print(len(attribute_table))\n",
    "attribute_table.head(2)"
   ]
  },
  {
   "cell_type": "markdown",
   "metadata": {},
   "source": [
    "Extract attributes into individual columns"
   ]
  },
  {
   "cell_type": "code",
   "execution_count": 41,
   "metadata": {},
   "outputs": [
    {
     "name": "stderr",
     "output_type": "stream",
     "text": [
      "/opt/conda/lib/python3.6/site-packages/pandas/core/indexing.py:376: SettingWithCopyWarning: \n",
      "A value is trying to be set on a copy of a slice from a DataFrame.\n",
      "Try using .loc[row_indexer,col_indexer] = value instead\n",
      "\n",
      "See the caveats in the documentation: http://pandas.pydata.org/pandas-docs/stable/user_guide/indexing.html#returning-a-view-versus-a-copy\n",
      "  self.obj[key] = _infer_fill_value(value)\n",
      "/opt/conda/lib/python3.6/site-packages/pandas/core/indexing.py:494: SettingWithCopyWarning: \n",
      "A value is trying to be set on a copy of a slice from a DataFrame.\n",
      "Try using .loc[row_indexer,col_indexer] = value instead\n",
      "\n",
      "See the caveats in the documentation: http://pandas.pydata.org/pandas-docs/stable/user_guide/indexing.html#returning-a-view-versus-a-copy\n",
      "  self.obj[item] = s\n"
     ]
    }
   ],
   "source": [
    "def extract_attribute(attr_dict):\n",
    "    return attr_dict[cur_key]\n",
    "\n",
    "for cur_key in attribute_list:\n",
    "    attribute_table.loc[:,cur_key] = attribute_table['attributes'].apply(extract_attribute)"
   ]
  },
  {
   "cell_type": "code",
   "execution_count": 42,
   "metadata": {},
   "outputs": [
    {
     "data": {
      "text/html": [
       "<div>\n",
       "<style scoped>\n",
       "    .dataframe tbody tr th:only-of-type {\n",
       "        vertical-align: middle;\n",
       "    }\n",
       "\n",
       "    .dataframe tbody tr th {\n",
       "        vertical-align: top;\n",
       "    }\n",
       "\n",
       "    .dataframe thead th {\n",
       "        text-align: right;\n",
       "    }\n",
       "</style>\n",
       "<table border=\"1\" class=\"dataframe\">\n",
       "  <thead>\n",
       "    <tr style=\"text-align: right;\">\n",
       "      <th></th>\n",
       "      <th>stars</th>\n",
       "      <th>attributes</th>\n",
       "      <th>review_count</th>\n",
       "      <th>WiFi</th>\n",
       "      <th>Alcohol</th>\n",
       "      <th>OutdoorSeating</th>\n",
       "      <th>BusinessAcceptsCreditCards</th>\n",
       "      <th>RestaurantsPriceRange2</th>\n",
       "      <th>NoiseLevel</th>\n",
       "    </tr>\n",
       "  </thead>\n",
       "  <tbody>\n",
       "    <tr>\n",
       "      <th>0</th>\n",
       "      <td>3.5</td>\n",
       "      <td>{'Caters': 'True', 'GoodForKids': 'True', 'Noi...</td>\n",
       "      <td>269</td>\n",
       "      <td>u'no'</td>\n",
       "      <td>'beer_and_wine'</td>\n",
       "      <td>False</td>\n",
       "      <td>True</td>\n",
       "      <td>2</td>\n",
       "      <td>u'average'</td>\n",
       "    </tr>\n",
       "    <tr>\n",
       "      <th>1</th>\n",
       "      <td>4.0</td>\n",
       "      <td>{'OutdoorSeating': 'True', 'HasTV': 'True', 'N...</td>\n",
       "      <td>320</td>\n",
       "      <td>u'free'</td>\n",
       "      <td>u'full_bar'</td>\n",
       "      <td>True</td>\n",
       "      <td>True</td>\n",
       "      <td>2</td>\n",
       "      <td>u'average'</td>\n",
       "    </tr>\n",
       "    <tr>\n",
       "      <th>2</th>\n",
       "      <td>3.5</td>\n",
       "      <td>{'BusinessAcceptsCreditCards': 'True', 'Restau...</td>\n",
       "      <td>526</td>\n",
       "      <td>u'no'</td>\n",
       "      <td>'full_bar'</td>\n",
       "      <td>False</td>\n",
       "      <td>True</td>\n",
       "      <td>3</td>\n",
       "      <td>u'average'</td>\n",
       "    </tr>\n",
       "    <tr>\n",
       "      <th>3</th>\n",
       "      <td>3.0</td>\n",
       "      <td>{'OutdoorSeating': 'False', 'RestaurantsGoodFo...</td>\n",
       "      <td>188</td>\n",
       "      <td>u'no'</td>\n",
       "      <td>u'none'</td>\n",
       "      <td>False</td>\n",
       "      <td>True</td>\n",
       "      <td>1</td>\n",
       "      <td>'average'</td>\n",
       "    </tr>\n",
       "    <tr>\n",
       "      <th>4</th>\n",
       "      <td>3.0</td>\n",
       "      <td>{'Ambience': '{'romantic': False, 'intimate': ...</td>\n",
       "      <td>104</td>\n",
       "      <td>u'no'</td>\n",
       "      <td>u'full_bar'</td>\n",
       "      <td>True</td>\n",
       "      <td>False</td>\n",
       "      <td>2</td>\n",
       "      <td>u'average'</td>\n",
       "    </tr>\n",
       "  </tbody>\n",
       "</table>\n",
       "</div>"
      ],
      "text/plain": [
       "   stars                                         attributes  review_count  \\\n",
       "0    3.5  {'Caters': 'True', 'GoodForKids': 'True', 'Noi...           269   \n",
       "1    4.0  {'OutdoorSeating': 'True', 'HasTV': 'True', 'N...           320   \n",
       "2    3.5  {'BusinessAcceptsCreditCards': 'True', 'Restau...           526   \n",
       "3    3.0  {'OutdoorSeating': 'False', 'RestaurantsGoodFo...           188   \n",
       "4    3.0  {'Ambience': '{'romantic': False, 'intimate': ...           104   \n",
       "\n",
       "      WiFi          Alcohol OutdoorSeating BusinessAcceptsCreditCards  \\\n",
       "0    u'no'  'beer_and_wine'          False                       True   \n",
       "1  u'free'      u'full_bar'           True                       True   \n",
       "2    u'no'       'full_bar'          False                       True   \n",
       "3    u'no'          u'none'          False                       True   \n",
       "4    u'no'      u'full_bar'           True                      False   \n",
       "\n",
       "  RestaurantsPriceRange2  NoiseLevel  \n",
       "0                      2  u'average'  \n",
       "1                      2  u'average'  \n",
       "2                      3  u'average'  \n",
       "3                      1   'average'  \n",
       "4                      2  u'average'  "
      ]
     },
     "execution_count": 42,
     "metadata": {},
     "output_type": "execute_result"
    }
   ],
   "source": [
    "attribute_table.head()"
   ]
  },
  {
   "cell_type": "markdown",
   "metadata": {},
   "source": [
    "### Data Cleaning"
   ]
  },
  {
   "cell_type": "markdown",
   "metadata": {},
   "source": [
    "Change column names for easier use."
   ]
  },
  {
   "cell_type": "code",
   "execution_count": 43,
   "metadata": {},
   "outputs": [],
   "source": [
    "attribute_table = attribute_table.rename(\n",
    "                    columns={\"WiFi\": \"wifi\", \n",
    "                             \"OutdoorSeating\": \"outdoor\", \n",
    "                             \"BusinessAcceptsCreditCards\": \"creditcards\",\n",
    "                             \"Alcohol\":\"alcohol\",\n",
    "                             \"RestaurantsPriceRange2\": \"price\",\n",
    "                             \"NoiseLevel\": \"noise\"}, \n",
    "                    errors=\"raise\")"
   ]
  },
  {
   "cell_type": "code",
   "execution_count": 44,
   "metadata": {},
   "outputs": [
    {
     "data": {
      "text/html": [
       "<div>\n",
       "<style scoped>\n",
       "    .dataframe tbody tr th:only-of-type {\n",
       "        vertical-align: middle;\n",
       "    }\n",
       "\n",
       "    .dataframe tbody tr th {\n",
       "        vertical-align: top;\n",
       "    }\n",
       "\n",
       "    .dataframe thead th {\n",
       "        text-align: right;\n",
       "    }\n",
       "</style>\n",
       "<table border=\"1\" class=\"dataframe\">\n",
       "  <thead>\n",
       "    <tr style=\"text-align: right;\">\n",
       "      <th></th>\n",
       "      <th>stars</th>\n",
       "      <th>attributes</th>\n",
       "      <th>review_count</th>\n",
       "      <th>wifi</th>\n",
       "      <th>alcohol</th>\n",
       "      <th>outdoor</th>\n",
       "      <th>creditcards</th>\n",
       "      <th>price</th>\n",
       "      <th>noise</th>\n",
       "    </tr>\n",
       "  </thead>\n",
       "  <tbody>\n",
       "    <tr>\n",
       "      <th>0</th>\n",
       "      <td>3.5</td>\n",
       "      <td>{'Caters': 'True', 'GoodForKids': 'True', 'Noi...</td>\n",
       "      <td>269</td>\n",
       "      <td>u'no'</td>\n",
       "      <td>'beer_and_wine'</td>\n",
       "      <td>False</td>\n",
       "      <td>True</td>\n",
       "      <td>2</td>\n",
       "      <td>u'average'</td>\n",
       "    </tr>\n",
       "    <tr>\n",
       "      <th>1</th>\n",
       "      <td>4.0</td>\n",
       "      <td>{'OutdoorSeating': 'True', 'HasTV': 'True', 'N...</td>\n",
       "      <td>320</td>\n",
       "      <td>u'free'</td>\n",
       "      <td>u'full_bar'</td>\n",
       "      <td>True</td>\n",
       "      <td>True</td>\n",
       "      <td>2</td>\n",
       "      <td>u'average'</td>\n",
       "    </tr>\n",
       "  </tbody>\n",
       "</table>\n",
       "</div>"
      ],
      "text/plain": [
       "   stars                                         attributes  review_count  \\\n",
       "0    3.5  {'Caters': 'True', 'GoodForKids': 'True', 'Noi...           269   \n",
       "1    4.0  {'OutdoorSeating': 'True', 'HasTV': 'True', 'N...           320   \n",
       "\n",
       "      wifi          alcohol outdoor creditcards price       noise  \n",
       "0    u'no'  'beer_and_wine'   False        True     2  u'average'  \n",
       "1  u'free'      u'full_bar'    True        True     2  u'average'  "
      ]
     },
     "execution_count": 44,
     "metadata": {},
     "output_type": "execute_result"
    }
   ],
   "source": [
    "attribute_table.head(2)"
   ]
  },
  {
   "cell_type": "code",
   "execution_count": 45,
   "metadata": {},
   "outputs": [
    {
     "data": {
      "text/plain": [
       "array([\"u'no'\", \"u'free'\", \"'no'\", \"'free'\", \"u'paid'\", 'None', \"'paid'\"],\n",
       "      dtype=object)"
      ]
     },
     "execution_count": 45,
     "metadata": {},
     "output_type": "execute_result"
    }
   ],
   "source": [
    "attribute_table['wifi'].unique()"
   ]
  },
  {
   "cell_type": "markdown",
   "metadata": {},
   "source": [
    "We want to clean WiFi to be 2 if provides, 1 if paid, and 0 if not."
   ]
  },
  {
   "cell_type": "code",
   "execution_count": 46,
   "metadata": {},
   "outputs": [],
   "source": [
    "def clean_wifi(s):\n",
    "    if \"no\" in s.lower():\n",
    "        return 0\n",
    "    elif \"paid\" in s.lower():\n",
    "        return 1\n",
    "    else:\n",
    "        return 2\n",
    "\n",
    "attribute_table.loc[:,'wifi'] = attribute_table['wifi'].apply(clean_wifi)"
   ]
  },
  {
   "cell_type": "code",
   "execution_count": 47,
   "metadata": {},
   "outputs": [
    {
     "data": {
      "text/html": [
       "<div>\n",
       "<style scoped>\n",
       "    .dataframe tbody tr th:only-of-type {\n",
       "        vertical-align: middle;\n",
       "    }\n",
       "\n",
       "    .dataframe tbody tr th {\n",
       "        vertical-align: top;\n",
       "    }\n",
       "\n",
       "    .dataframe thead th {\n",
       "        text-align: right;\n",
       "    }\n",
       "</style>\n",
       "<table border=\"1\" class=\"dataframe\">\n",
       "  <thead>\n",
       "    <tr style=\"text-align: right;\">\n",
       "      <th></th>\n",
       "      <th>stars</th>\n",
       "      <th>attributes</th>\n",
       "      <th>review_count</th>\n",
       "      <th>wifi</th>\n",
       "      <th>alcohol</th>\n",
       "      <th>outdoor</th>\n",
       "      <th>creditcards</th>\n",
       "      <th>price</th>\n",
       "      <th>noise</th>\n",
       "    </tr>\n",
       "  </thead>\n",
       "  <tbody>\n",
       "    <tr>\n",
       "      <th>0</th>\n",
       "      <td>3.5</td>\n",
       "      <td>{'Caters': 'True', 'GoodForKids': 'True', 'Noi...</td>\n",
       "      <td>269</td>\n",
       "      <td>0</td>\n",
       "      <td>'beer_and_wine'</td>\n",
       "      <td>False</td>\n",
       "      <td>True</td>\n",
       "      <td>2</td>\n",
       "      <td>u'average'</td>\n",
       "    </tr>\n",
       "    <tr>\n",
       "      <th>1</th>\n",
       "      <td>4.0</td>\n",
       "      <td>{'OutdoorSeating': 'True', 'HasTV': 'True', 'N...</td>\n",
       "      <td>320</td>\n",
       "      <td>2</td>\n",
       "      <td>u'full_bar'</td>\n",
       "      <td>True</td>\n",
       "      <td>True</td>\n",
       "      <td>2</td>\n",
       "      <td>u'average'</td>\n",
       "    </tr>\n",
       "    <tr>\n",
       "      <th>2</th>\n",
       "      <td>3.5</td>\n",
       "      <td>{'BusinessAcceptsCreditCards': 'True', 'Restau...</td>\n",
       "      <td>526</td>\n",
       "      <td>0</td>\n",
       "      <td>'full_bar'</td>\n",
       "      <td>False</td>\n",
       "      <td>True</td>\n",
       "      <td>3</td>\n",
       "      <td>u'average'</td>\n",
       "    </tr>\n",
       "    <tr>\n",
       "      <th>3</th>\n",
       "      <td>3.0</td>\n",
       "      <td>{'OutdoorSeating': 'False', 'RestaurantsGoodFo...</td>\n",
       "      <td>188</td>\n",
       "      <td>0</td>\n",
       "      <td>u'none'</td>\n",
       "      <td>False</td>\n",
       "      <td>True</td>\n",
       "      <td>1</td>\n",
       "      <td>'average'</td>\n",
       "    </tr>\n",
       "    <tr>\n",
       "      <th>4</th>\n",
       "      <td>3.0</td>\n",
       "      <td>{'Ambience': '{'romantic': False, 'intimate': ...</td>\n",
       "      <td>104</td>\n",
       "      <td>0</td>\n",
       "      <td>u'full_bar'</td>\n",
       "      <td>True</td>\n",
       "      <td>False</td>\n",
       "      <td>2</td>\n",
       "      <td>u'average'</td>\n",
       "    </tr>\n",
       "  </tbody>\n",
       "</table>\n",
       "</div>"
      ],
      "text/plain": [
       "   stars                                         attributes  review_count  \\\n",
       "0    3.5  {'Caters': 'True', 'GoodForKids': 'True', 'Noi...           269   \n",
       "1    4.0  {'OutdoorSeating': 'True', 'HasTV': 'True', 'N...           320   \n",
       "2    3.5  {'BusinessAcceptsCreditCards': 'True', 'Restau...           526   \n",
       "3    3.0  {'OutdoorSeating': 'False', 'RestaurantsGoodFo...           188   \n",
       "4    3.0  {'Ambience': '{'romantic': False, 'intimate': ...           104   \n",
       "\n",
       "   wifi          alcohol outdoor creditcards price       noise  \n",
       "0     0  'beer_and_wine'   False        True     2  u'average'  \n",
       "1     2      u'full_bar'    True        True     2  u'average'  \n",
       "2     0       'full_bar'   False        True     3  u'average'  \n",
       "3     0          u'none'   False        True     1   'average'  \n",
       "4     0      u'full_bar'    True       False     2  u'average'  "
      ]
     },
     "execution_count": 47,
     "metadata": {},
     "output_type": "execute_result"
    }
   ],
   "source": [
    "attribute_table.head()"
   ]
  },
  {
   "cell_type": "markdown",
   "metadata": {},
   "source": [
    "OutdoorSeating and BusinessAcceptingCrediCard should be transformed to 1 for True and 0 for False."
   ]
  },
  {
   "cell_type": "code",
   "execution_count": 48,
   "metadata": {},
   "outputs": [],
   "source": [
    "def bool_to_int(b):\n",
    "    if b:\n",
    "        return 1\n",
    "    else:\n",
    "        return 0\n",
    "\n",
    "attribute_table.loc[:,'outdoor'] = attribute_table['outdoor'].apply(bool_to_int)\n",
    "attribute_table.loc[:,'creditcards'] = attribute_table['creditcards'].apply(bool_to_int)"
   ]
  },
  {
   "cell_type": "code",
   "execution_count": 49,
   "metadata": {},
   "outputs": [
    {
     "data": {
      "text/html": [
       "<div>\n",
       "<style scoped>\n",
       "    .dataframe tbody tr th:only-of-type {\n",
       "        vertical-align: middle;\n",
       "    }\n",
       "\n",
       "    .dataframe tbody tr th {\n",
       "        vertical-align: top;\n",
       "    }\n",
       "\n",
       "    .dataframe thead th {\n",
       "        text-align: right;\n",
       "    }\n",
       "</style>\n",
       "<table border=\"1\" class=\"dataframe\">\n",
       "  <thead>\n",
       "    <tr style=\"text-align: right;\">\n",
       "      <th></th>\n",
       "      <th>stars</th>\n",
       "      <th>attributes</th>\n",
       "      <th>review_count</th>\n",
       "      <th>wifi</th>\n",
       "      <th>alcohol</th>\n",
       "      <th>outdoor</th>\n",
       "      <th>creditcards</th>\n",
       "      <th>price</th>\n",
       "      <th>noise</th>\n",
       "    </tr>\n",
       "  </thead>\n",
       "  <tbody>\n",
       "    <tr>\n",
       "      <th>0</th>\n",
       "      <td>3.5</td>\n",
       "      <td>{'Caters': 'True', 'GoodForKids': 'True', 'Noi...</td>\n",
       "      <td>269</td>\n",
       "      <td>0</td>\n",
       "      <td>'beer_and_wine'</td>\n",
       "      <td>1</td>\n",
       "      <td>1</td>\n",
       "      <td>2</td>\n",
       "      <td>u'average'</td>\n",
       "    </tr>\n",
       "    <tr>\n",
       "      <th>1</th>\n",
       "      <td>4.0</td>\n",
       "      <td>{'OutdoorSeating': 'True', 'HasTV': 'True', 'N...</td>\n",
       "      <td>320</td>\n",
       "      <td>2</td>\n",
       "      <td>u'full_bar'</td>\n",
       "      <td>1</td>\n",
       "      <td>1</td>\n",
       "      <td>2</td>\n",
       "      <td>u'average'</td>\n",
       "    </tr>\n",
       "    <tr>\n",
       "      <th>2</th>\n",
       "      <td>3.5</td>\n",
       "      <td>{'BusinessAcceptsCreditCards': 'True', 'Restau...</td>\n",
       "      <td>526</td>\n",
       "      <td>0</td>\n",
       "      <td>'full_bar'</td>\n",
       "      <td>1</td>\n",
       "      <td>1</td>\n",
       "      <td>3</td>\n",
       "      <td>u'average'</td>\n",
       "    </tr>\n",
       "    <tr>\n",
       "      <th>3</th>\n",
       "      <td>3.0</td>\n",
       "      <td>{'OutdoorSeating': 'False', 'RestaurantsGoodFo...</td>\n",
       "      <td>188</td>\n",
       "      <td>0</td>\n",
       "      <td>u'none'</td>\n",
       "      <td>1</td>\n",
       "      <td>1</td>\n",
       "      <td>1</td>\n",
       "      <td>'average'</td>\n",
       "    </tr>\n",
       "    <tr>\n",
       "      <th>4</th>\n",
       "      <td>3.0</td>\n",
       "      <td>{'Ambience': '{'romantic': False, 'intimate': ...</td>\n",
       "      <td>104</td>\n",
       "      <td>0</td>\n",
       "      <td>u'full_bar'</td>\n",
       "      <td>1</td>\n",
       "      <td>1</td>\n",
       "      <td>2</td>\n",
       "      <td>u'average'</td>\n",
       "    </tr>\n",
       "  </tbody>\n",
       "</table>\n",
       "</div>"
      ],
      "text/plain": [
       "   stars                                         attributes  review_count  \\\n",
       "0    3.5  {'Caters': 'True', 'GoodForKids': 'True', 'Noi...           269   \n",
       "1    4.0  {'OutdoorSeating': 'True', 'HasTV': 'True', 'N...           320   \n",
       "2    3.5  {'BusinessAcceptsCreditCards': 'True', 'Restau...           526   \n",
       "3    3.0  {'OutdoorSeating': 'False', 'RestaurantsGoodFo...           188   \n",
       "4    3.0  {'Ambience': '{'romantic': False, 'intimate': ...           104   \n",
       "\n",
       "   wifi          alcohol  outdoor  creditcards price       noise  \n",
       "0     0  'beer_and_wine'        1            1     2  u'average'  \n",
       "1     2      u'full_bar'        1            1     2  u'average'  \n",
       "2     0       'full_bar'        1            1     3  u'average'  \n",
       "3     0          u'none'        1            1     1   'average'  \n",
       "4     0      u'full_bar'        1            1     2  u'average'  "
      ]
     },
     "execution_count": 49,
     "metadata": {},
     "output_type": "execute_result"
    }
   ],
   "source": [
    "attribute_table.head()"
   ]
  },
  {
   "cell_type": "code",
   "execution_count": 50,
   "metadata": {},
   "outputs": [
    {
     "data": {
      "text/plain": [
       "array([\"'beer_and_wine'\", \"u'full_bar'\", \"'full_bar'\", \"u'none'\",\n",
       "       \"u'beer_and_wine'\", \"'none'\", 'None'], dtype=object)"
      ]
     },
     "execution_count": 50,
     "metadata": {},
     "output_type": "execute_result"
    }
   ],
   "source": [
    "attribute_table['alcohol'].unique()"
   ]
  },
  {
   "cell_type": "markdown",
   "metadata": {},
   "source": [
    "If it's not none, then it provides alcohol."
   ]
  },
  {
   "cell_type": "code",
   "execution_count": 51,
   "metadata": {},
   "outputs": [],
   "source": [
    "def clean_alcohol(s):\n",
    "    if \"none\" in s.lower():\n",
    "        return 0\n",
    "    else:\n",
    "        return 1\n",
    "\n",
    "attribute_table.loc[:,'alcohol'] = attribute_table['alcohol'].apply(clean_alcohol)"
   ]
  },
  {
   "cell_type": "code",
   "execution_count": 52,
   "metadata": {
    "scrolled": true
   },
   "outputs": [
    {
     "data": {
      "text/html": [
       "<div>\n",
       "<style scoped>\n",
       "    .dataframe tbody tr th:only-of-type {\n",
       "        vertical-align: middle;\n",
       "    }\n",
       "\n",
       "    .dataframe tbody tr th {\n",
       "        vertical-align: top;\n",
       "    }\n",
       "\n",
       "    .dataframe thead th {\n",
       "        text-align: right;\n",
       "    }\n",
       "</style>\n",
       "<table border=\"1\" class=\"dataframe\">\n",
       "  <thead>\n",
       "    <tr style=\"text-align: right;\">\n",
       "      <th></th>\n",
       "      <th>stars</th>\n",
       "      <th>attributes</th>\n",
       "      <th>review_count</th>\n",
       "      <th>wifi</th>\n",
       "      <th>alcohol</th>\n",
       "      <th>outdoor</th>\n",
       "      <th>creditcards</th>\n",
       "      <th>price</th>\n",
       "      <th>noise</th>\n",
       "    </tr>\n",
       "  </thead>\n",
       "  <tbody>\n",
       "    <tr>\n",
       "      <th>0</th>\n",
       "      <td>3.5</td>\n",
       "      <td>{'Caters': 'True', 'GoodForKids': 'True', 'Noi...</td>\n",
       "      <td>269</td>\n",
       "      <td>0</td>\n",
       "      <td>1</td>\n",
       "      <td>1</td>\n",
       "      <td>1</td>\n",
       "      <td>2</td>\n",
       "      <td>u'average'</td>\n",
       "    </tr>\n",
       "    <tr>\n",
       "      <th>1</th>\n",
       "      <td>4.0</td>\n",
       "      <td>{'OutdoorSeating': 'True', 'HasTV': 'True', 'N...</td>\n",
       "      <td>320</td>\n",
       "      <td>2</td>\n",
       "      <td>1</td>\n",
       "      <td>1</td>\n",
       "      <td>1</td>\n",
       "      <td>2</td>\n",
       "      <td>u'average'</td>\n",
       "    </tr>\n",
       "    <tr>\n",
       "      <th>2</th>\n",
       "      <td>3.5</td>\n",
       "      <td>{'BusinessAcceptsCreditCards': 'True', 'Restau...</td>\n",
       "      <td>526</td>\n",
       "      <td>0</td>\n",
       "      <td>1</td>\n",
       "      <td>1</td>\n",
       "      <td>1</td>\n",
       "      <td>3</td>\n",
       "      <td>u'average'</td>\n",
       "    </tr>\n",
       "    <tr>\n",
       "      <th>3</th>\n",
       "      <td>3.0</td>\n",
       "      <td>{'OutdoorSeating': 'False', 'RestaurantsGoodFo...</td>\n",
       "      <td>188</td>\n",
       "      <td>0</td>\n",
       "      <td>0</td>\n",
       "      <td>1</td>\n",
       "      <td>1</td>\n",
       "      <td>1</td>\n",
       "      <td>'average'</td>\n",
       "    </tr>\n",
       "    <tr>\n",
       "      <th>4</th>\n",
       "      <td>3.0</td>\n",
       "      <td>{'Ambience': '{'romantic': False, 'intimate': ...</td>\n",
       "      <td>104</td>\n",
       "      <td>0</td>\n",
       "      <td>1</td>\n",
       "      <td>1</td>\n",
       "      <td>1</td>\n",
       "      <td>2</td>\n",
       "      <td>u'average'</td>\n",
       "    </tr>\n",
       "  </tbody>\n",
       "</table>\n",
       "</div>"
      ],
      "text/plain": [
       "   stars                                         attributes  review_count  \\\n",
       "0    3.5  {'Caters': 'True', 'GoodForKids': 'True', 'Noi...           269   \n",
       "1    4.0  {'OutdoorSeating': 'True', 'HasTV': 'True', 'N...           320   \n",
       "2    3.5  {'BusinessAcceptsCreditCards': 'True', 'Restau...           526   \n",
       "3    3.0  {'OutdoorSeating': 'False', 'RestaurantsGoodFo...           188   \n",
       "4    3.0  {'Ambience': '{'romantic': False, 'intimate': ...           104   \n",
       "\n",
       "   wifi  alcohol  outdoor  creditcards price       noise  \n",
       "0     0        1        1            1     2  u'average'  \n",
       "1     2        1        1            1     2  u'average'  \n",
       "2     0        1        1            1     3  u'average'  \n",
       "3     0        0        1            1     1   'average'  \n",
       "4     0        1        1            1     2  u'average'  "
      ]
     },
     "execution_count": 52,
     "metadata": {},
     "output_type": "execute_result"
    }
   ],
   "source": [
    "attribute_table.head()"
   ]
  },
  {
   "cell_type": "markdown",
   "metadata": {},
   "source": [
    "Price column turns out to be strings, so simple conversion should do."
   ]
  },
  {
   "cell_type": "code",
   "execution_count": 53,
   "metadata": {},
   "outputs": [
    {
     "data": {
      "text/plain": [
       "dtype('O')"
      ]
     },
     "execution_count": 53,
     "metadata": {},
     "output_type": "execute_result"
    }
   ],
   "source": [
    "attribute_table['price'].dtype"
   ]
  },
  {
   "cell_type": "code",
   "execution_count": 54,
   "metadata": {},
   "outputs": [],
   "source": [
    "attribute_table.loc[:,'price'] = attribute_table['price'].astype(int)"
   ]
  },
  {
   "cell_type": "code",
   "execution_count": 55,
   "metadata": {},
   "outputs": [
    {
     "data": {
      "text/html": [
       "<div>\n",
       "<style scoped>\n",
       "    .dataframe tbody tr th:only-of-type {\n",
       "        vertical-align: middle;\n",
       "    }\n",
       "\n",
       "    .dataframe tbody tr th {\n",
       "        vertical-align: top;\n",
       "    }\n",
       "\n",
       "    .dataframe thead th {\n",
       "        text-align: right;\n",
       "    }\n",
       "</style>\n",
       "<table border=\"1\" class=\"dataframe\">\n",
       "  <thead>\n",
       "    <tr style=\"text-align: right;\">\n",
       "      <th></th>\n",
       "      <th>stars</th>\n",
       "      <th>attributes</th>\n",
       "      <th>review_count</th>\n",
       "      <th>wifi</th>\n",
       "      <th>alcohol</th>\n",
       "      <th>outdoor</th>\n",
       "      <th>creditcards</th>\n",
       "      <th>price</th>\n",
       "      <th>noise</th>\n",
       "    </tr>\n",
       "  </thead>\n",
       "  <tbody>\n",
       "    <tr>\n",
       "      <th>0</th>\n",
       "      <td>3.5</td>\n",
       "      <td>{'Caters': 'True', 'GoodForKids': 'True', 'Noi...</td>\n",
       "      <td>269</td>\n",
       "      <td>0</td>\n",
       "      <td>1</td>\n",
       "      <td>1</td>\n",
       "      <td>1</td>\n",
       "      <td>2</td>\n",
       "      <td>u'average'</td>\n",
       "    </tr>\n",
       "    <tr>\n",
       "      <th>1</th>\n",
       "      <td>4.0</td>\n",
       "      <td>{'OutdoorSeating': 'True', 'HasTV': 'True', 'N...</td>\n",
       "      <td>320</td>\n",
       "      <td>2</td>\n",
       "      <td>1</td>\n",
       "      <td>1</td>\n",
       "      <td>1</td>\n",
       "      <td>2</td>\n",
       "      <td>u'average'</td>\n",
       "    </tr>\n",
       "    <tr>\n",
       "      <th>2</th>\n",
       "      <td>3.5</td>\n",
       "      <td>{'BusinessAcceptsCreditCards': 'True', 'Restau...</td>\n",
       "      <td>526</td>\n",
       "      <td>0</td>\n",
       "      <td>1</td>\n",
       "      <td>1</td>\n",
       "      <td>1</td>\n",
       "      <td>3</td>\n",
       "      <td>u'average'</td>\n",
       "    </tr>\n",
       "    <tr>\n",
       "      <th>3</th>\n",
       "      <td>3.0</td>\n",
       "      <td>{'OutdoorSeating': 'False', 'RestaurantsGoodFo...</td>\n",
       "      <td>188</td>\n",
       "      <td>0</td>\n",
       "      <td>0</td>\n",
       "      <td>1</td>\n",
       "      <td>1</td>\n",
       "      <td>1</td>\n",
       "      <td>'average'</td>\n",
       "    </tr>\n",
       "    <tr>\n",
       "      <th>4</th>\n",
       "      <td>3.0</td>\n",
       "      <td>{'Ambience': '{'romantic': False, 'intimate': ...</td>\n",
       "      <td>104</td>\n",
       "      <td>0</td>\n",
       "      <td>1</td>\n",
       "      <td>1</td>\n",
       "      <td>1</td>\n",
       "      <td>2</td>\n",
       "      <td>u'average'</td>\n",
       "    </tr>\n",
       "  </tbody>\n",
       "</table>\n",
       "</div>"
      ],
      "text/plain": [
       "   stars                                         attributes  review_count  \\\n",
       "0    3.5  {'Caters': 'True', 'GoodForKids': 'True', 'Noi...           269   \n",
       "1    4.0  {'OutdoorSeating': 'True', 'HasTV': 'True', 'N...           320   \n",
       "2    3.5  {'BusinessAcceptsCreditCards': 'True', 'Restau...           526   \n",
       "3    3.0  {'OutdoorSeating': 'False', 'RestaurantsGoodFo...           188   \n",
       "4    3.0  {'Ambience': '{'romantic': False, 'intimate': ...           104   \n",
       "\n",
       "   wifi  alcohol  outdoor  creditcards  price       noise  \n",
       "0     0        1        1            1      2  u'average'  \n",
       "1     2        1        1            1      2  u'average'  \n",
       "2     0        1        1            1      3  u'average'  \n",
       "3     0        0        1            1      1   'average'  \n",
       "4     0        1        1            1      2  u'average'  "
      ]
     },
     "execution_count": 55,
     "metadata": {},
     "output_type": "execute_result"
    }
   ],
   "source": [
    "attribute_table.head()"
   ]
  },
  {
   "cell_type": "code",
   "execution_count": 56,
   "metadata": {},
   "outputs": [
    {
     "data": {
      "text/plain": [
       "array([\"u'average'\", \"'average'\", \"u'quiet'\", \"'loud'\", \"'quiet'\",\n",
       "       \"u'loud'\", \"u'very_loud'\", \"'very_loud'\", 'None'], dtype=object)"
      ]
     },
     "execution_count": 56,
     "metadata": {},
     "output_type": "execute_result"
    }
   ],
   "source": [
    "attribute_table['noise'].unique()"
   ]
  },
  {
   "cell_type": "markdown",
   "metadata": {},
   "source": [
    "Because None noise is quite impossible, we will count the None as average.\n",
    "- very loud = 3\n",
    "- loud = 2\n",
    "- average = 1\n",
    "- quiet = 0\n",
    "- None = 1"
   ]
  },
  {
   "cell_type": "code",
   "execution_count": 57,
   "metadata": {},
   "outputs": [],
   "source": [
    "def clean_noise(s):\n",
    "    if \"very_loud\" in s.lower():\n",
    "        return 3\n",
    "    elif \"loud\" in s.lower():\n",
    "        return 2\n",
    "    elif \"average\" in s.lower():\n",
    "        return 1\n",
    "    elif \"quiet\" in s.lower():\n",
    "        return 0\n",
    "    elif \"none\" in s.lower():\n",
    "        return 1\n",
    "    else:\n",
    "        return s\n",
    "\n",
    "attribute_table.loc[:,'noise'] = attribute_table['noise'].apply(clean_noise)"
   ]
  },
  {
   "cell_type": "code",
   "execution_count": 58,
   "metadata": {},
   "outputs": [
    {
     "data": {
      "text/html": [
       "<div>\n",
       "<style scoped>\n",
       "    .dataframe tbody tr th:only-of-type {\n",
       "        vertical-align: middle;\n",
       "    }\n",
       "\n",
       "    .dataframe tbody tr th {\n",
       "        vertical-align: top;\n",
       "    }\n",
       "\n",
       "    .dataframe thead th {\n",
       "        text-align: right;\n",
       "    }\n",
       "</style>\n",
       "<table border=\"1\" class=\"dataframe\">\n",
       "  <thead>\n",
       "    <tr style=\"text-align: right;\">\n",
       "      <th></th>\n",
       "      <th>stars</th>\n",
       "      <th>attributes</th>\n",
       "      <th>review_count</th>\n",
       "      <th>wifi</th>\n",
       "      <th>alcohol</th>\n",
       "      <th>outdoor</th>\n",
       "      <th>creditcards</th>\n",
       "      <th>price</th>\n",
       "      <th>noise</th>\n",
       "    </tr>\n",
       "  </thead>\n",
       "  <tbody>\n",
       "    <tr>\n",
       "      <th>0</th>\n",
       "      <td>3.5</td>\n",
       "      <td>{'Caters': 'True', 'GoodForKids': 'True', 'Noi...</td>\n",
       "      <td>269</td>\n",
       "      <td>0</td>\n",
       "      <td>1</td>\n",
       "      <td>1</td>\n",
       "      <td>1</td>\n",
       "      <td>2</td>\n",
       "      <td>1</td>\n",
       "    </tr>\n",
       "    <tr>\n",
       "      <th>1</th>\n",
       "      <td>4.0</td>\n",
       "      <td>{'OutdoorSeating': 'True', 'HasTV': 'True', 'N...</td>\n",
       "      <td>320</td>\n",
       "      <td>2</td>\n",
       "      <td>1</td>\n",
       "      <td>1</td>\n",
       "      <td>1</td>\n",
       "      <td>2</td>\n",
       "      <td>1</td>\n",
       "    </tr>\n",
       "    <tr>\n",
       "      <th>2</th>\n",
       "      <td>3.5</td>\n",
       "      <td>{'BusinessAcceptsCreditCards': 'True', 'Restau...</td>\n",
       "      <td>526</td>\n",
       "      <td>0</td>\n",
       "      <td>1</td>\n",
       "      <td>1</td>\n",
       "      <td>1</td>\n",
       "      <td>3</td>\n",
       "      <td>1</td>\n",
       "    </tr>\n",
       "    <tr>\n",
       "      <th>3</th>\n",
       "      <td>3.0</td>\n",
       "      <td>{'OutdoorSeating': 'False', 'RestaurantsGoodFo...</td>\n",
       "      <td>188</td>\n",
       "      <td>0</td>\n",
       "      <td>0</td>\n",
       "      <td>1</td>\n",
       "      <td>1</td>\n",
       "      <td>1</td>\n",
       "      <td>1</td>\n",
       "    </tr>\n",
       "    <tr>\n",
       "      <th>4</th>\n",
       "      <td>3.0</td>\n",
       "      <td>{'Ambience': '{'romantic': False, 'intimate': ...</td>\n",
       "      <td>104</td>\n",
       "      <td>0</td>\n",
       "      <td>1</td>\n",
       "      <td>1</td>\n",
       "      <td>1</td>\n",
       "      <td>2</td>\n",
       "      <td>1</td>\n",
       "    </tr>\n",
       "  </tbody>\n",
       "</table>\n",
       "</div>"
      ],
      "text/plain": [
       "   stars                                         attributes  review_count  \\\n",
       "0    3.5  {'Caters': 'True', 'GoodForKids': 'True', 'Noi...           269   \n",
       "1    4.0  {'OutdoorSeating': 'True', 'HasTV': 'True', 'N...           320   \n",
       "2    3.5  {'BusinessAcceptsCreditCards': 'True', 'Restau...           526   \n",
       "3    3.0  {'OutdoorSeating': 'False', 'RestaurantsGoodFo...           188   \n",
       "4    3.0  {'Ambience': '{'romantic': False, 'intimate': ...           104   \n",
       "\n",
       "   wifi  alcohol  outdoor  creditcards  price  noise  \n",
       "0     0        1        1            1      2      1  \n",
       "1     2        1        1            1      2      1  \n",
       "2     0        1        1            1      3      1  \n",
       "3     0        0        1            1      1      1  \n",
       "4     0        1        1            1      2      1  "
      ]
     },
     "execution_count": 58,
     "metadata": {},
     "output_type": "execute_result"
    }
   ],
   "source": [
    "attribute_table.head()"
   ]
  },
  {
   "cell_type": "markdown",
   "metadata": {},
   "source": [
    "Now we can take out attributes column and start analyzing."
   ]
  },
  {
   "cell_type": "code",
   "execution_count": 59,
   "metadata": {},
   "outputs": [],
   "source": [
    "attribute_table = attribute_table.drop(columns=\"attributes\")"
   ]
  },
  {
   "cell_type": "markdown",
   "metadata": {},
   "source": [
    "### Analzying each column"
   ]
  },
  {
   "cell_type": "markdown",
   "metadata": {},
   "source": [
    "Before diving into their correlations, let's look at each column's unique value more closely."
   ]
  },
  {
   "cell_type": "code",
   "execution_count": 60,
   "metadata": {},
   "outputs": [
    {
     "data": {
      "text/plain": [
       "stars               [3.5, 4.0, 3.0, 2.5, 4.5, 2.0, 1.5, 5.0, 1.0]\n",
       "review_count    [269.0, 320.0, 526.0, 188.0, 104.0, 563.0, 23....\n",
       "wifi                                              [0.0, 2.0, 1.0]\n",
       "alcohol                                                [1.0, 0.0]\n",
       "outdoor                                                     [1.0]\n",
       "creditcards                                                 [1.0]\n",
       "price                                        [2.0, 3.0, 1.0, 4.0]\n",
       "noise                                        [1.0, 0.0, 2.0, 3.0]\n",
       "dtype: object"
      ]
     },
     "execution_count": 60,
     "metadata": {},
     "output_type": "execute_result"
    }
   ],
   "source": [
    "attribute_table.apply(lambda x: pd.unique(x).tolist())"
   ]
  },
  {
   "cell_type": "markdown",
   "metadata": {},
   "source": [
    "Notice that outdoor and creditcards both have one unique value. It looks like all restaurant in this set has outdoor seating and credit card as a paying option, thus it is not reasonable to analyze these two column."
   ]
  },
  {
   "cell_type": "code",
   "execution_count": 61,
   "metadata": {},
   "outputs": [],
   "source": [
    "attribute_table = attribute_table.drop(columns=['outdoor', 'creditcards'])"
   ]
  },
  {
   "cell_type": "markdown",
   "metadata": {},
   "source": [
    "Now that we have all these attributes, we wish to see which ones are most correlated with our stars. For this purpose, we are using a heatmap."
   ]
  },
  {
   "cell_type": "code",
   "execution_count": 62,
   "metadata": {
    "scrolled": false
   },
   "outputs": [
    {
     "data": {
      "image/png": "[encoded data removed]",
      "text/plain": [
       "<Figure size 720x720 with 2 Axes>"
      ]
     },
     "metadata": {
      "needs_background": "light"
     },
     "output_type": "display_data"
    }
   ],
   "source": [
    "correlation_table = attribute_table.corr()\n",
    "plt.figure(figsize=(6,6), dpi=120)\n",
    "sns.heatmap(data=correlation_table,\n",
    "            xticklabels = attribute_table.columns,\n",
    "            yticklabels = attribute_table.columns,\n",
    "            annot = True,\n",
    "            cmap=\"Blues\")\n",
    "plt.title(\"Heatmap: Correlation between attributes and star ratings\", fontsize= 14)\n",
    "plt.xticks(fontsize=10)\n",
    "plt.yticks(fontsize=10)\n",
    "# === Fixing the cut off === #\n",
    "# Reference: https://github.com/mwaskom/seaborn/issues/1773\n",
    "# fix for mpl bug that cuts off top/bottom of seaborn viz\n",
    "b, t = plt.ylim() # discover the values for bottom and top\n",
    "b += 0.5 # Add 0.5 to the bottom\n",
    "t -= 0.5 # Subtract 0.5 from the top\n",
    "plt.ylim(b, t) # update the ylim(bottom, top) values\n",
    "plt.show() # ta-da!"
   ]
  },
  {
   "cell_type": "markdown",
   "metadata": {},
   "source": [
    "### Heatmap Analysis\n",
    "Contrary to our intuition, wifi seem to have the least effect on restaurant's ratings. The top two attributes are numbers of reviews and the noise level of the restaurants. We would apply an Ordinary Least Square to these two attributes to prove our hypothesis."
   ]
  },
  {
   "cell_type": "markdown",
   "metadata": {},
   "source": [
    "$H_0$, the null hypothesis states given feature does not correlates to the number of stars a restaurant receives.  \n",
    "$H_a$, the alternative hypothesis states given feature does correlates to the number of stars a restaurant receives."
   ]
  },
  {
   "cell_type": "markdown",
   "metadata": {},
   "source": [
    "### Analyzing **Number of Reviews**"
   ]
  },
  {
   "cell_type": "code",
   "execution_count": 64,
   "metadata": {},
   "outputs": [],
   "source": [
    "import statsmodels.api as sm\n",
    "# To calculate the intercept of the line\n",
    "attribute_table['intercept'] = 1\n",
    "ols_count = sm.OLS(attribute_table['stars'], \n",
    "                             attribute_table[['review_count', 'intercept']])\n",
    "count_res = ols_count.fit()\n",
    "ols_noise = sm.OLS(attribute_table['stars'], \n",
    "                             attribute_table[['noise', 'intercept']])\n",
    "noise_res = ols_noise.fit()"
   ]
  },
  {
   "cell_type": "code",
   "execution_count": 65,
   "metadata": {},
   "outputs": [
    {
     "data": {
      "text/html": [
       "<table class=\"simpletable\">\n",
       "<caption>OLS Regression Results</caption>\n",
       "<tr>\n",
       "  <th>Dep. Variable:</th>          <td>stars</td>      <th>  R-squared:         </th> <td>   0.084</td> \n",
       "</tr>\n",
       "<tr>\n",
       "  <th>Model:</th>                   <td>OLS</td>       <th>  Adj. R-squared:    </th> <td>   0.083</td> \n",
       "</tr>\n",
       "<tr>\n",
       "  <th>Method:</th>             <td>Least Squares</td>  <th>  F-statistic:       </th> <td>   581.3</td> \n",
       "</tr>\n",
       "<tr>\n",
       "  <th>Date:</th>             <td>Mon, 16 Mar 2020</td> <th>  Prob (F-statistic):</th> <td>5.40e-123</td>\n",
       "</tr>\n",
       "<tr>\n",
       "  <th>Time:</th>                 <td>16:11:00</td>     <th>  Log-Likelihood:    </th> <td> -6475.3</td> \n",
       "</tr>\n",
       "<tr>\n",
       "  <th>No. Observations:</th>      <td>  6378</td>      <th>  AIC:               </th> <td>1.295e+04</td>\n",
       "</tr>\n",
       "<tr>\n",
       "  <th>Df Residuals:</th>          <td>  6376</td>      <th>  BIC:               </th> <td>1.297e+04</td>\n",
       "</tr>\n",
       "<tr>\n",
       "  <th>Df Model:</th>              <td>     1</td>      <th>                     </th>     <td> </td>    \n",
       "</tr>\n",
       "<tr>\n",
       "  <th>Covariance Type:</th>      <td>nonrobust</td>    <th>                     </th>     <td> </td>    \n",
       "</tr>\n",
       "</table>\n",
       "<table class=\"simpletable\">\n",
       "<tr>\n",
       "        <td></td>          <th>coef</th>     <th>std err</th>      <th>t</th>      <th>P>|t|</th>  <th>[0.025</th>    <th>0.975]</th>  \n",
       "</tr>\n",
       "<tr>\n",
       "  <th>review_count</th> <td>    0.0010</td> <td> 4.19e-05</td> <td>   24.111</td> <td> 0.000</td> <td>    0.001</td> <td>    0.001</td>\n",
       "</tr>\n",
       "<tr>\n",
       "  <th>intercept</th>    <td>    3.3862</td> <td>    0.011</td> <td>  315.851</td> <td> 0.000</td> <td>    3.365</td> <td>    3.407</td>\n",
       "</tr>\n",
       "</table>\n",
       "<table class=\"simpletable\">\n",
       "<tr>\n",
       "  <th>Omnibus:</th>       <td>206.461</td> <th>  Durbin-Watson:     </th> <td>   1.959</td>\n",
       "</tr>\n",
       "<tr>\n",
       "  <th>Prob(Omnibus):</th> <td> 0.000</td>  <th>  Jarque-Bera (JB):  </th> <td> 226.206</td>\n",
       "</tr>\n",
       "<tr>\n",
       "  <th>Skew:</th>          <td>-0.458</td>  <th>  Prob(JB):          </th> <td>7.58e-50</td>\n",
       "</tr>\n",
       "<tr>\n",
       "  <th>Kurtosis:</th>      <td> 3.105</td>  <th>  Cond. No.          </th> <td>    328.</td>\n",
       "</tr>\n",
       "</table><br/><br/>Warnings:<br/>[1] Standard Errors assume that the covariance matrix of the errors is correctly specified."
      ],
      "text/plain": [
       "<class 'statsmodels.iolib.summary.Summary'>\n",
       "\"\"\"\n",
       "                            OLS Regression Results                            \n",
       "==============================================================================\n",
       "Dep. Variable:                  stars   R-squared:                       0.084\n",
       "Model:                            OLS   Adj. R-squared:                  0.083\n",
       "Method:                 Least Squares   F-statistic:                     581.3\n",
       "Date:                Mon, 16 Mar 2020   Prob (F-statistic):          5.40e-123\n",
       "Time:                        16:11:00   Log-Likelihood:                -6475.3\n",
       "No. Observations:                6378   AIC:                         1.295e+04\n",
       "Df Residuals:                    6376   BIC:                         1.297e+04\n",
       "Df Model:                           1                                         \n",
       "Covariance Type:            nonrobust                                         \n",
       "================================================================================\n",
       "                   coef    std err          t      P>|t|      [0.025      0.975]\n",
       "--------------------------------------------------------------------------------\n",
       "review_count     0.0010   4.19e-05     24.111      0.000       0.001       0.001\n",
       "intercept        3.3862      0.011    315.851      0.000       3.365       3.407\n",
       "==============================================================================\n",
       "Omnibus:                      206.461   Durbin-Watson:                   1.959\n",
       "Prob(Omnibus):                  0.000   Jarque-Bera (JB):              226.206\n",
       "Skew:                          -0.458   Prob(JB):                     7.58e-50\n",
       "Kurtosis:                       3.105   Cond. No.                         328.\n",
       "==============================================================================\n",
       "\n",
       "Warnings:\n",
       "[1] Standard Errors assume that the covariance matrix of the errors is correctly specified.\n",
       "\"\"\""
      ]
     },
     "execution_count": 65,
     "metadata": {},
     "output_type": "execute_result"
    }
   ],
   "source": [
    "count_res.summary()"
   ]
  },
  {
   "cell_type": "markdown",
   "metadata": {},
   "source": [
    "#### What do we learn from this huge chank of information?\n",
    "- $R-squared = 0.432$, which means this model works just fine.\n",
    "- $P>|t| = 0$. With such a low p-value, it is save to **reject** the $H_0$, which means number of reviews **does correlates positively** with how good the restaurant's ratings."
   ]
  },
  {
   "cell_type": "markdown",
   "metadata": {},
   "source": [
    "We can also graph it out to see it more clearly."
   ]
  },
  {
   "cell_type": "code",
   "execution_count": 66,
   "metadata": {},
   "outputs": [
    {
     "data": {
      "text/plain": [
       "Text(0.5, 1.0, 'Scatterplot w/ regression Line for stars/review counts')"
      ]
     },
     "execution_count": 66,
     "metadata": {},
     "output_type": "execute_result"
    },
    {
     "data": {
      "image/png": "[encoded data removed]",
      "text/plain": [
       "<Figure size 600x600 with 1 Axes>"
      ]
     },
     "metadata": {
      "needs_background": "light"
     },
     "output_type": "display_data"
    }
   ],
   "source": [
    "# The data\n",
    "plt.figure(figsize=(6,6), dpi=100)\n",
    "sns.scatterplot(x = attribute_table['review_count'],\n",
    "                y = attribute_table['stars'])\n",
    "# The line\n",
    "x = np.arange(attribute_table['review_count'].min(), attribute_table['review_count'].max())\n",
    "y = x * 0.001 + 3.3862\n",
    "plt.plot(x,y, color='red')\n",
    "\n",
    "# Title\n",
    "plt.title(\"Scatterplot w/ regression Line for stars/review counts\")"
   ]
  },
  {
   "cell_type": "markdown",
   "metadata": {},
   "source": [
    "#### Scatergraph w/ regression line Analysis\n",
    "The scatterplot supports our theory. From the graph we can see that most data points distributes on the upper left corner of graph, meaning most restaurant's with higher ratings tend to have more reviews. Thus, the regression line generated captures that perfectly, as it divides the graph into two triangles, showing a positive correlation between number of reviews and number of stars."
   ]
  },
  {
   "cell_type": "markdown",
   "metadata": {},
   "source": [
    "### Analyzing **Noise Level**"
   ]
  },
  {
   "cell_type": "code",
   "execution_count": 67,
   "metadata": {},
   "outputs": [
    {
     "data": {
      "text/html": [
       "<table class=\"simpletable\">\n",
       "<caption>OLS Regression Results</caption>\n",
       "<tr>\n",
       "  <th>Dep. Variable:</th>          <td>stars</td>      <th>  R-squared:         </th> <td>   0.026</td> \n",
       "</tr>\n",
       "<tr>\n",
       "  <th>Model:</th>                   <td>OLS</td>       <th>  Adj. R-squared:    </th> <td>   0.026</td> \n",
       "</tr>\n",
       "<tr>\n",
       "  <th>Method:</th>             <td>Least Squares</td>  <th>  F-statistic:       </th> <td>   171.9</td> \n",
       "</tr>\n",
       "<tr>\n",
       "  <th>Date:</th>             <td>Mon, 16 Mar 2020</td> <th>  Prob (F-statistic):</th> <td>9.21e-39</td> \n",
       "</tr>\n",
       "<tr>\n",
       "  <th>Time:</th>                 <td>16:11:02</td>     <th>  Log-Likelihood:    </th> <td> -6668.7</td> \n",
       "</tr>\n",
       "<tr>\n",
       "  <th>No. Observations:</th>      <td>  6378</td>      <th>  AIC:               </th> <td>1.334e+04</td>\n",
       "</tr>\n",
       "<tr>\n",
       "  <th>Df Residuals:</th>          <td>  6376</td>      <th>  BIC:               </th> <td>1.335e+04</td>\n",
       "</tr>\n",
       "<tr>\n",
       "  <th>Df Model:</th>              <td>     1</td>      <th>                     </th>     <td> </td>    \n",
       "</tr>\n",
       "<tr>\n",
       "  <th>Covariance Type:</th>      <td>nonrobust</td>    <th>                     </th>     <td> </td>    \n",
       "</tr>\n",
       "</table>\n",
       "<table class=\"simpletable\">\n",
       "<tr>\n",
       "      <td></td>         <th>coef</th>     <th>std err</th>      <th>t</th>      <th>P>|t|</th>  <th>[0.025</th>    <th>0.975]</th>  \n",
       "</tr>\n",
       "<tr>\n",
       "  <th>noise</th>     <td>   -0.2054</td> <td>    0.016</td> <td>  -13.109</td> <td> 0.000</td> <td>   -0.236</td> <td>   -0.175</td>\n",
       "</tr>\n",
       "<tr>\n",
       "  <th>intercept</th> <td>    3.7352</td> <td>    0.017</td> <td>  223.812</td> <td> 0.000</td> <td>    3.703</td> <td>    3.768</td>\n",
       "</tr>\n",
       "</table>\n",
       "<table class=\"simpletable\">\n",
       "<tr>\n",
       "  <th>Omnibus:</th>       <td>364.796</td> <th>  Durbin-Watson:     </th> <td>   1.966</td>\n",
       "</tr>\n",
       "<tr>\n",
       "  <th>Prob(Omnibus):</th> <td> 0.000</td>  <th>  Jarque-Bera (JB):  </th> <td> 428.577</td>\n",
       "</tr>\n",
       "<tr>\n",
       "  <th>Skew:</th>          <td>-0.627</td>  <th>  Prob(JB):          </th> <td>8.62e-94</td>\n",
       "</tr>\n",
       "<tr>\n",
       "  <th>Kurtosis:</th>      <td> 3.197</td>  <th>  Cond. No.          </th> <td>    3.60</td>\n",
       "</tr>\n",
       "</table><br/><br/>Warnings:<br/>[1] Standard Errors assume that the covariance matrix of the errors is correctly specified."
      ],
      "text/plain": [
       "<class 'statsmodels.iolib.summary.Summary'>\n",
       "\"\"\"\n",
       "                            OLS Regression Results                            \n",
       "==============================================================================\n",
       "Dep. Variable:                  stars   R-squared:                       0.026\n",
       "Model:                            OLS   Adj. R-squared:                  0.026\n",
       "Method:                 Least Squares   F-statistic:                     171.9\n",
       "Date:                Mon, 16 Mar 2020   Prob (F-statistic):           9.21e-39\n",
       "Time:                        16:11:02   Log-Likelihood:                -6668.7\n",
       "No. Observations:                6378   AIC:                         1.334e+04\n",
       "Df Residuals:                    6376   BIC:                         1.335e+04\n",
       "Df Model:                           1                                         \n",
       "Covariance Type:            nonrobust                                         \n",
       "==============================================================================\n",
       "                 coef    std err          t      P>|t|      [0.025      0.975]\n",
       "------------------------------------------------------------------------------\n",
       "noise         -0.2054      0.016    -13.109      0.000      -0.236      -0.175\n",
       "intercept      3.7352      0.017    223.812      0.000       3.703       3.768\n",
       "==============================================================================\n",
       "Omnibus:                      364.796   Durbin-Watson:                   1.966\n",
       "Prob(Omnibus):                  0.000   Jarque-Bera (JB):              428.577\n",
       "Skew:                          -0.627   Prob(JB):                     8.62e-94\n",
       "Kurtosis:                       3.197   Cond. No.                         3.60\n",
       "==============================================================================\n",
       "\n",
       "Warnings:\n",
       "[1] Standard Errors assume that the covariance matrix of the errors is correctly specified.\n",
       "\"\"\""
      ]
     },
     "execution_count": 67,
     "metadata": {},
     "output_type": "execute_result"
    }
   ],
   "source": [
    "noise_res.summary()"
   ]
  },
  {
   "cell_type": "markdown",
   "metadata": {},
   "source": [
    "#### What do we learn from this huge chank of information?\n",
    "- $R-squared = 0.679$, which means this model works just fine.\n",
    "- $P>|t| = 0$. With such a low p-value, it is save to **reject** the $H_0$, which means the noise level **does correlates negatively** with how good the restaurant's ratings."
   ]
  },
  {
   "cell_type": "markdown",
   "metadata": {},
   "source": [
    "Before we graph this one as well, it is worth a closer look at the data we have."
   ]
  },
  {
   "cell_type": "code",
   "execution_count": 68,
   "metadata": {},
   "outputs": [
    {
     "data": {
      "text/html": [
       "<div>\n",
       "<style scoped>\n",
       "    .dataframe tbody tr th:only-of-type {\n",
       "        vertical-align: middle;\n",
       "    }\n",
       "\n",
       "    .dataframe tbody tr th {\n",
       "        vertical-align: top;\n",
       "    }\n",
       "\n",
       "    .dataframe thead th {\n",
       "        text-align: right;\n",
       "    }\n",
       "</style>\n",
       "<table border=\"1\" class=\"dataframe\">\n",
       "  <thead>\n",
       "    <tr style=\"text-align: right;\">\n",
       "      <th></th>\n",
       "      <th>stars</th>\n",
       "      <th>noise</th>\n",
       "    </tr>\n",
       "  </thead>\n",
       "  <tbody>\n",
       "    <tr>\n",
       "      <th>0</th>\n",
       "      <td>3.5</td>\n",
       "      <td>1</td>\n",
       "    </tr>\n",
       "    <tr>\n",
       "      <th>1</th>\n",
       "      <td>4.0</td>\n",
       "      <td>1</td>\n",
       "    </tr>\n",
       "    <tr>\n",
       "      <th>2</th>\n",
       "      <td>3.5</td>\n",
       "      <td>1</td>\n",
       "    </tr>\n",
       "    <tr>\n",
       "      <th>3</th>\n",
       "      <td>3.0</td>\n",
       "      <td>1</td>\n",
       "    </tr>\n",
       "    <tr>\n",
       "      <th>4</th>\n",
       "      <td>3.0</td>\n",
       "      <td>1</td>\n",
       "    </tr>\n",
       "  </tbody>\n",
       "</table>\n",
       "</div>"
      ],
      "text/plain": [
       "   stars  noise\n",
       "0    3.5      1\n",
       "1    4.0      1\n",
       "2    3.5      1\n",
       "3    3.0      1\n",
       "4    3.0      1"
      ]
     },
     "execution_count": 68,
     "metadata": {},
     "output_type": "execute_result"
    }
   ],
   "source": [
    "attribute_table[['stars','noise']].head()"
   ]
  },
  {
   "cell_type": "markdown",
   "metadata": {},
   "source": [
    "### Plot twist!!!\n",
    "Both stars/noise are **discrete variables**, which means they take only a few values from a list of options. Graphing this distribution can be tricky because if we simply graph them without any preprocessing, we end up with a graph of dots that does not represent the population. For example: if there are a lot of restaurants with stars level at 3.5 and noise level at 1 and only one restaurant with stars level at 3.5 and noise level at 3, **our graph does not capture that differnce, it merely shows if a data point existsted or not**. Thus, we did a sophisticated counter to add weight to each data point to reflect that difference."
   ]
  },
  {
   "cell_type": "markdown",
   "metadata": {},
   "source": [
    "This is before we weighted the points, notice that the regression line doesn't make much sense."
   ]
  },
  {
   "cell_type": "code",
   "execution_count": 69,
   "metadata": {},
   "outputs": [
    {
     "data": {
      "text/plain": [
       "Text(0.5, 1.0, 'Scatterplot w/ regression Line for stars/review counts(unweighted)')"
      ]
     },
     "execution_count": 69,
     "metadata": {},
     "output_type": "execute_result"
    },
    {
     "data": {
      "image/png": "[encoded data removed]",
      "text/plain": [
       "<Figure size 600x600 with 1 Axes>"
      ]
     },
     "metadata": {
      "needs_background": "light"
     },
     "output_type": "display_data"
    }
   ],
   "source": [
    "# The data\n",
    "plt.figure(figsize=(6,6), dpi=100)\n",
    "sns.scatterplot(x = attribute_table['noise'],\n",
    "                y = attribute_table['stars'])\n",
    "# The line\n",
    "x = np.arange(attribute_table['noise'].min(), attribute_table['noise'].max()+0.5, 0.5)\n",
    "y = x * -0.2054 + 3.7352\n",
    "plt.plot(x,y, color='red')\n",
    "\n",
    "# Title\n",
    "plt.title(\"Scatterplot w/ regression Line for stars/review counts(unweighted)\")"
   ]
  },
  {
   "cell_type": "markdown",
   "metadata": {},
   "source": [
    "Apply weight to each point by counting them."
   ]
  },
  {
   "cell_type": "code",
   "execution_count": 70,
   "metadata": {},
   "outputs": [],
   "source": [
    "import collections\n",
    "attribute_table['combine'] = attribute_table['stars'].astype(str) + \"*\" + attribute_table['noise'].astype(str)\n",
    "data = dict(collections.Counter(attribute_table['combine'].tolist()))\n",
    "weighted_noise = pd.DataFrame(data = [], columns = ['stars', 'noise', 'count'])\n",
    "index = 0\n",
    "for key in data.keys():\n",
    "    stars = float(key[:key.find(\"*\")])\n",
    "    noise = int(key[key.find(\"*\")+1:])\n",
    "    weighted_noise.loc[index] = [stars, noise, data[key]]\n",
    "    index += 1"
   ]
  },
  {
   "cell_type": "code",
   "execution_count": 71,
   "metadata": {},
   "outputs": [
    {
     "data": {
      "text/html": [
       "<div>\n",
       "<style scoped>\n",
       "    .dataframe tbody tr th:only-of-type {\n",
       "        vertical-align: middle;\n",
       "    }\n",
       "\n",
       "    .dataframe tbody tr th {\n",
       "        vertical-align: top;\n",
       "    }\n",
       "\n",
       "    .dataframe thead th {\n",
       "        text-align: right;\n",
       "    }\n",
       "</style>\n",
       "<table border=\"1\" class=\"dataframe\">\n",
       "  <thead>\n",
       "    <tr style=\"text-align: right;\">\n",
       "      <th></th>\n",
       "      <th>stars</th>\n",
       "      <th>noise</th>\n",
       "      <th>count</th>\n",
       "    </tr>\n",
       "  </thead>\n",
       "  <tbody>\n",
       "    <tr>\n",
       "      <th>0</th>\n",
       "      <td>3.5</td>\n",
       "      <td>1.0</td>\n",
       "      <td>1302.0</td>\n",
       "    </tr>\n",
       "    <tr>\n",
       "      <th>1</th>\n",
       "      <td>4.0</td>\n",
       "      <td>1.0</td>\n",
       "      <td>1496.0</td>\n",
       "    </tr>\n",
       "    <tr>\n",
       "      <th>2</th>\n",
       "      <td>3.0</td>\n",
       "      <td>1.0</td>\n",
       "      <td>806.0</td>\n",
       "    </tr>\n",
       "    <tr>\n",
       "      <th>3</th>\n",
       "      <td>4.0</td>\n",
       "      <td>0.0</td>\n",
       "      <td>351.0</td>\n",
       "    </tr>\n",
       "    <tr>\n",
       "      <th>4</th>\n",
       "      <td>2.5</td>\n",
       "      <td>1.0</td>\n",
       "      <td>365.0</td>\n",
       "    </tr>\n",
       "  </tbody>\n",
       "</table>\n",
       "</div>"
      ],
      "text/plain": [
       "   stars  noise   count\n",
       "0    3.5    1.0  1302.0\n",
       "1    4.0    1.0  1496.0\n",
       "2    3.0    1.0   806.0\n",
       "3    4.0    0.0   351.0\n",
       "4    2.5    1.0   365.0"
      ]
     },
     "execution_count": 71,
     "metadata": {},
     "output_type": "execute_result"
    }
   ],
   "source": [
    "weighted_noise.head()"
   ]
  },
  {
   "cell_type": "markdown",
   "metadata": {},
   "source": [
    "This graph looks way better now, with darker dots = more data points."
   ]
  },
  {
   "cell_type": "code",
   "execution_count": 72,
   "metadata": {},
   "outputs": [
    {
     "data": {
      "text/plain": [
       "Text(0.5, 1.0, 'Scatterplot w/ regression Line for stars/review counts(weighted)')"
      ]
     },
     "execution_count": 72,
     "metadata": {},
     "output_type": "execute_result"
    },
    {
     "data": {
      "image/png": "[encoded data removed]",
      "text/plain": [
       "<Figure size 600x600 with 1 Axes>"
      ]
     },
     "metadata": {
      "needs_background": "light"
     },
     "output_type": "display_data"
    }
   ],
   "source": [
    "# The data\n",
    "plt.figure(figsize=(6,6), dpi=100)\n",
    "sns.scatterplot(x = weighted_noise['noise'],\n",
    "                y = weighted_noise['stars'],\n",
    "                hue = weighted_noise['count'])\n",
    "# The line\n",
    "x = np.arange(weighted_noise['noise'].min(), weighted_noise['noise'].max() + 0.5, 0.5)\n",
    "y = x * -0.2054 + 3.7352\n",
    "plt.plot(x,y, color='red')\n",
    "\n",
    "# Title\n",
    "plt.title(\"Scatterplot w/ regression Line for stars/review counts(weighted)\")"
   ]
  },
  {
   "cell_type": "markdown",
   "metadata": {},
   "source": [
    "#### Scattergraph w/ regression line Analysis\n",
    "Now the linear regression line makes more sense. Although it doesn't capture all the points shown, it predicts the most dense data points well, with noise level at 1 and moderately high ratings. This does support that quiet restaurants tend to receive a higher ratings."
   ]
  },
  {
   "cell_type": "markdown",
   "metadata": {},
   "source": [
    "### Conclusion: \n",
    "- both review counts and level of noise correlates to the ratings of the restaurants out of all possible attributes we reviewed. We suspect that people tend to like restaurants that are visited by many, and most people doesn't like loud noises when they eat. However, those are only our attempt to explain such correlations, because correlations does not lead to causation.  \n",
    "\n",
    "- This could be useful to restaurant owners, in that if they wish to get a higher rating, consider reducing the noise of their business and, more importantly, get people to review their restaurant more on Yelp."
   ]
  },
  {
   "cell_type": "markdown",
   "metadata": {},
   "source": [
    "# Ethical and Privacy Considerations"
   ]
  },
  {
   "cell_type": "markdown",
   "metadata": {},
   "source": [
    "To start with the data collection, we get most of the data from Kaggle and Yelp. For these two data source, Kaggle is a online data community and platform where people share data for public use. Thus, we can use the data directly without applying for any further authoritization. Yelp also posts the datasets on their website \"for public to use in personal, educational, and academic purposes\", which is also open resource that we can go ahead and grab. Since our group is highly aware of the ethics and privacy concerns of our project and always keep that in mind throughout the project process, all of our members cross checked if the data source we use is llegal before we actually started. \n",
    "\n",
    "Our objective for the project is to explore the relationship between resturants' ratings in Arizona and three factors, including the crime rate, customers' real comment, and attributes. Based on this intent, we noticed several ethics and privacy issues.\n",
    "\n",
    "First, since we aim to figure out if the crime rate in a certain area may affect the ratings of the restaurants. This may be decision-oriented for entrepreneurs and investors who are in the restaurant/bar industry or real estate market. When the entrepreneurs and investors are making decisions about the location of their bussiness, they may tend to choose the district with relatively low crime rate, which may cause the downfall of restaurant business in areas with high crime rate. If the area with high crime rate happens to be the area with high density of residents, this may lead to high demand of restaurant industry with low supply. Overtime, the lack of restaurant services may also drive away other business like entertainment industry, which will make the life of the people in high crime rate area worse off. Although the final conclusion of our crime rate--restaurant rating research question suggests that a restaurant's rating is not really related to the criminal activities around the area, this is a critical ethical concern we should be take into consideration when working on the project. Since restaurant rating is supposedly related to various factors, no matter how our conclusion looks like, we ourselves and any people who are concerned should take our project as a reference instead of making our conclusion as a high weighted factor when making decisions.\n",
    "\n",
    "Furthermore, since we are doing the text sentiment analysis, which is based on the comments from real users of Yelp, we need to be aware of the privacy issue. The dataset we used for sentiment analysis includes attributes like `review_id`, `business_id` and `user_id`, which are codes to identify different restaurants or users instead of real names, which is one layer of protection for privacy. Besides, since we always keep in mind that those codes are not a nickname or a point on our plot and that they are real people who are susceptible to personal information leak, we need to be extra careful when the process of the project goes on. Since we are uncertain if those codes may provide any personal inforamtion or how they are formed, we did not make use of those attributes in our project or draw any conclusion with that in order to make sure the privacy is protected.\n",
    "\n",
    "Except for the crime rate, we are also trying to make correlations between the restaurant ratings and lots of attributes like noise, price, review counts, etc. This may also affect the decision of restaurant runners. Again, like we mentioned in the first part, the conclusion we make should be considered reference since we only gathered data on some attributes which may be related with the restaurant ratings, issues like confounding may exist and a lot of other factors is yet to be explored. "
   ]
  },
  {
   "cell_type": "markdown",
   "metadata": {},
   "source": [
    "# Conclusion & Discussion"
   ]
  },
  {
   "cell_type": "markdown",
   "metadata": {},
   "source": [
    "To recap on our project as a whole, we tried to answer three questions related to the Arizona restaurant ratings with the datasets we gathered, including:\n",
    "\n",
    "* Does the star rates of Arizonian restuarants truely reflect people's thoughts in the review texts?\n",
    "* Is there a relationship between the Arizona restaurant ratings and the crime rate of the district where the restaurants locate?\n",
    "* Is there a relationship between the Arizona restaurant ratings and vaious attributes like amount of reviews, wifi availability, alcohol availability, price and noise?\n",
    "\n",
    "Our conclusion to the first question is that by performing the text sentiment analysis with the SVM model, the result of training displays high precision and we can trust the star-level based ranking of restaurants to a great extent that the number of stars do reflect people's thoughts towards a certain restaurant.\n",
    "\n",
    "Secondly, by plotting the map to visualize the crime rate distribution of Arizona, comparing it with the star ratings distribution of restaurants, and performing linear regression and statistical inference, we conclude that although it may be intuitive that high crime rate implies low star ratings of the restaurants, they are actually not correlated.\n",
    "\n",
    "Lastly, we make use of the data sets we get from Yelp to investigate if restaurant ratings is related to other attributes we have data in hand. By plotting the heat map to visualize the correlation between star ratings and other attributes and performing statistical inference, we conclude that review counts and noise is significant in correlation with the restaurant ratings in Arizona."
   ]
  },
  {
   "cell_type": "markdown",
   "metadata": {},
   "source": [
    "# Future Work"
   ]
  },
  {
   "cell_type": "markdown",
   "metadata": {},
   "source": [
    "Overall, the work we have done in this project to explore what factor affect the restaurant ratings in Arizona is initial since the data set we use does not include information of many attributes for us to explore and thus confounding effects may exist. There are still a lot of factors like restauant's internal and external enviornment, overall weather tendency of a certain area, capacity of the restaurant, etc. For future work, we should gather more attributes and explore how those attributes contribute in the restaurant ratings and how they interact with the attributes we already have. Also, since our project is based on the data of Arizona restaurants, to generalize the results of the project to restaurants overall, we will be needing data of restaurants of the whole country so that the result can be applied to the restauant industry. We may perform time series analysis, geospatial analysis and text sentiment analysis to fully explore the factors that exerts influence on restaurant reputation."
   ]
  },
  {
   "cell_type": "code",
   "execution_count": null,
   "metadata": {},
   "outputs": [],
   "source": []
  }
 ],
 "metadata": {
  "kernelspec": {
   "display_name": "Python 3",
   "language": "python",
   "name": "python3"
  },
  "language_info": {
   "codemirror_mode": {
    "name": "ipython",
    "version": 3
   },
   "file_extension": ".py",
   "mimetype": "text/x-python",
   "name": "python",
   "nbconvert_exporter": "python",
   "pygments_lexer": "ipython3",
   "version": "3.7.3"
  }
 },
 "nbformat": 4,
 "nbformat_minor": 2
}
