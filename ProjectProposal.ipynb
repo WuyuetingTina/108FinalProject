{
 "cells": [
  {
   "cell_type": "markdown",
   "metadata": {},
   "source": [
    "# COGS 108 - Final Project Proposal"
   ]
  },
  {
   "cell_type": "markdown",
   "metadata": {},
   "source": [
    "# Names\n",
    "\n",
    "- Guanyi Su\n",
    "- Zhanchong Deng\n",
    "- Yueting Wu\n",
    "- Jiayun Wang\n",
    "- Yimei Zhao"
   ]
  },
  {
   "cell_type": "markdown",
   "metadata": {},
   "source": [
    "# Group Members IDs\n",
    "\n",
    "- A15538515\n",
    "- A15491777\n",
    "- A15534973\n",
    "- A15570215\n",
    "- A15603085"
   ]
  },
  {
   "cell_type": "markdown",
   "metadata": {},
   "source": [
    "# Research Question"
   ]
  },
  {
   "cell_type": "markdown",
   "metadata": {},
   "source": [
    "What causes suicide in US? Specifically, we want to explore more on factors causing and predicting suicide. We would like to focus more on some factors, like age, states, gender and etc. And why and how these factors might influence suicide rate? More details will be shown in our hypothesis. We would like to analyze datasets and see other factors which might influence the likelihood of suicide. We would like to measure how variables like location, age, race, gender affect the likelihood of suicide."
   ]
  },
  {
   "cell_type": "markdown",
   "metadata": {},
   "source": [
    "## Background and Prior Work"
   ]
  },
  {
   "cell_type": "markdown",
   "metadata": {},
   "source": [
    "The American Foundation for Suicide Prevention reported that in 2016 suicide was the 10th leading cause of death in the U.S (Reference 3). The suicide rates in the US has gained more public attention with its recent spike (Reference 2). Previous studies has produced many useful statistics of suicide such as the geographical/ethinic/age/occupation distribution of suicide attempts (Reference 1).\n",
    "\n",
    "References (include links):\n",
    "- 1) https://afsp.org/about-suicide/suicide-statistics/\n",
    "- 2) https://www.usatoday.com/story/news/nation/2020/01/30/u-s-suicide-rate-rose-again-2018-how-can-suicide-prevention-save-lives/4616479002/\n",
    "- 3) https://en.wikipedia.org/wiki/Suicide_in_the_United_States\n",
    "\n",
    "In our project,  with the data of the previous studies as the base, we will be digging deeper into the cause of suicide beyond the facts and statistics."
   ]
  },
  {
   "cell_type": "markdown",
   "metadata": {},
   "source": [
    "# Hypothesis\n"
   ]
  },
  {
   "cell_type": "markdown",
   "metadata": {},
   "source": [
    "By intuition, we came up with certain factors that may share a correlation to the likelihood of suicides in the US.\n",
    "- Location of residency - crime rate, quietness, comfortability in the neighborhood is likely to have an affect on individual's psychological condition, thus the likelihood to suicide.\n",
    "- Age - Young age groups may experience more stress, while older age groups has less stress to push them to suicde. \n",
    "- Race - the act of suicides may be dishonorable to some culture, thus decreasing the likelihood of suicides for people from that group.\n",
    "- Gender - Females are more communicative thus better at coping with stress than men do, thus less likley to suicide."
   ]
  },
  {
   "cell_type": "markdown",
   "metadata": {},
   "source": [
    "# Data"
   ]
  },
  {
   "cell_type": "markdown",
   "metadata": {},
   "source": [
    "In this research, we will use the following data sets:\n",
    "- https://www.cdc.gov/nchs/pressroom/sosmap/suicide-mortality/suicide.htm\n",
    "- https://www.kaggle.com/russellyates88/suicide-rates-overview-1985-to-2016\n",
    "- https://www.kaggle.com/kingburrito666/the-demographic-rforeveralone-dataset\n",
    "\n",
    "The variables we would have include external elements of a suicide case such as time of day, the location and the season. We will also have some variables about the person who tried to kill himself/herself, such as age, race, job, and gender.\n",
    "All the data will be stored in CSV files which can be read as data frame in Python.\n",
    "We will have at least 400 observations, and each of the observations will be a case of suicide that happened in the U.S."
   ]
  },
  {
   "cell_type": "markdown",
   "metadata": {},
   "source": [
    "# Ethics & Privacy"
   ]
  },
  {
   "cell_type": "markdown",
   "metadata": {},
   "source": [
    "The data sets that we used are from Centers for Disease Control and Prevention (CDC) government website and Kaggle. The data set are all public data resource that can be searched online. Since the data we used contains some personal information, we will ensure that our analysis won’t point to certain people or affect the city’s property right. What’s more, we can’t make sure the accuracy and correctness of our data sets. We will make our analysis based on the data sets that we used and try to minimize the bias. And since our topic is to find the causes of suicide in US, we will try to find as many related factors as possible. Our result will based on data analysis instead of personal thoughts. \n"
   ]
  },
  {
   "cell_type": "markdown",
   "metadata": {},
   "source": [
    "# Team Expectations "
   ]
  },
  {
   "cell_type": "markdown",
   "metadata": {},
   "source": [
    "Each person in the group should make contribution to the project. In order to make a good research project, everyone should attend the weekly meeting, and reply all the messages about the project as soon as possible. After discussing what should be done in the meeting, each group member should finish his/her task on time. When doing the project, everyone should be friendly to each other and respect each other. "
   ]
  },
  {
   "cell_type": "markdown",
   "metadata": {},
   "source": [
    "# Project Timeline Proposal"
   ]
  },
  {
   "cell_type": "markdown",
   "metadata": {},
   "source": [
    "| Meeting Date  | Meeting Time| Completed Before Meeting  | Discuss at Meeting |\n",
    "|---|---|---|---|\n",
    "| 1/20  | 3 PM | Read & Think about COGS 108 expectations; brainstorm topics/questions  | Determine best form of communication; Discuss and decide on final project topic; discuss hypothesis; begin background research | \n",
    "| 1/26  |  3 PM |  Do background research on topic | Discuss ideal dataset(s) and ethics; draft project proposal | \n",
    "| 1/31  | 3 PM  | Edit, finalize, and submit proposal; Search for datasets  | Discuss Wrangling and possible analytical approaches   |\n",
    "| 2/14  | 3 PM  | Import & Wrangle Data; EDA | Review/Edit wrangling/EDA; Discuss Analysis Plan; Think about algorithm  |\n",
    "| 2/23  | 3 PM  | Finalize wrangling/EDA; Begin Analysis | Discuss/edit Analysis; Complete project check-in |\n",
    "| 3/13  | 3 PM  | Complete analysis; Draft results/conclusion/discussion | Discuss/edit full project; Improve the style of code |\n",
    "| 3/19  | Before 11:59 PM  | NA | Turn in Final Project & Group Project Surveys |"
   ]
  },
  {
   "cell_type": "code",
   "execution_count": null,
   "metadata": {},
   "outputs": [],
   "source": []
  }
 ],
 "metadata": {
  "kernelspec": {
   "display_name": "Python 3",
   "language": "python",
   "name": "python3"
  },
  "language_info": {
   "codemirror_mode": {
    "name": "ipython",
    "version": 3
   },
   "file_extension": ".py",
   "mimetype": "text/x-python",
   "name": "python",
   "nbconvert_exporter": "python",
   "pygments_lexer": "ipython3",
   "version": "3.7.3"
  }
 },
 "nbformat": 4,
 "nbformat_minor": 2
}
